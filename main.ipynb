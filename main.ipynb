{
 "cells": [
  {
   "cell_type": "markdown",
   "metadata": {},
   "source": [
    "# PulsarPrediction\n",
    "\n",
    "## Introduction"
   ]
  },
  {
   "cell_type": "code",
   "execution_count": 19,
   "metadata": {},
   "outputs": [
    {
     "ename": "ERROR",
     "evalue": "Error in library(qdap): there is no package called ‘qdap’\n",
     "output_type": "error",
     "traceback": [
      "Error in library(qdap): there is no package called ‘qdap’\nTraceback:\n",
      "1. suppressMessages(library(qdap))",
      "2. withCallingHandlers(expr, message = function(c) if (inherits(c, \n .     classes)) tryInvokeRestart(\"muffleMessage\"))",
      "3. library(qdap)"
     ]
    }
   ],
   "source": [
    "suppressMessages(library(tidyverse))\n",
    "suppressMessages(library(repr))\n",
    "suppressMessages(library(tidymodels))\n",
    "suppressMessages(library(qdap))\n",
    "options(repr.matrix.max.rows = 6)"
   ]
  },
  {
   "cell_type": "code",
   "execution_count": 103,
   "metadata": {},
   "outputs": [
    {
     "name": "stderr",
     "output_type": "stream",
     "text": [
      "Parsed with column specification:\n",
      "cols(\n",
      "  `Mean of the integrated profile` = \u001b[32mcol_double()\u001b[39m,\n",
      "  `Standard deviation of the integrated profile` = \u001b[32mcol_double()\u001b[39m,\n",
      "  `Excess kurtosis of the integrated profile` = \u001b[32mcol_double()\u001b[39m,\n",
      "  `Skewness of the integrated profile` = \u001b[32mcol_double()\u001b[39m,\n",
      "  `Mean of the DM-SNR curve` = \u001b[32mcol_double()\u001b[39m,\n",
      "  `Standard deviation of the DM-SNR curve` = \u001b[32mcol_double()\u001b[39m,\n",
      "  `Excess kurtosis of the DM-SNR curve` = \u001b[32mcol_double()\u001b[39m,\n",
      "  `Skewness of the DM-SNR curve` = \u001b[32mcol_double()\u001b[39m,\n",
      "  target_class = \u001b[32mcol_double()\u001b[39m\n",
      ")\n",
      "\n"
     ]
    }
   ],
   "source": [
    "pulsar_training = read_csv(\"pulsar_data_train.csv\")\n",
    "pulsar_training = na.omit(pulsar_training)\n"
   ]
  },
  {
   "cell_type": "code",
   "execution_count": 104,
   "metadata": {},
   "outputs": [
    {
     "data": {
      "text/html": [
       "<table>\n",
       "<caption>A tibble: 9273 × 9</caption>\n",
       "<thead>\n",
       "\t<tr><th scope=col>Motip</th><th scope=col>Sdotip</th><th scope=col>Ekotip</th><th scope=col>Sotip</th><th scope=col>MotDc</th><th scope=col>SdotDc</th><th scope=col>EkotDc</th><th scope=col>SotDc</th><th scope=col>t</th></tr>\n",
       "\t<tr><th scope=col>&lt;dbl&gt;</th><th scope=col>&lt;dbl&gt;</th><th scope=col>&lt;dbl&gt;</th><th scope=col>&lt;dbl&gt;</th><th scope=col>&lt;dbl&gt;</th><th scope=col>&lt;dbl&gt;</th><th scope=col>&lt;dbl&gt;</th><th scope=col>&lt;dbl&gt;</th><th scope=col>&lt;dbl&gt;</th></tr>\n",
       "</thead>\n",
       "<tbody>\n",
       "\t<tr><td>121.15625</td><td>48.37297</td><td>0.3754847</td><td>-0.01316549</td><td>3.168896</td><td>18.39937</td><td>7.449874</td><td> 65.15930</td><td>0</td></tr>\n",
       "\t<tr><td> 76.96875</td><td>36.17556</td><td>0.7128979</td><td> 3.38871856</td><td>2.399666</td><td>17.57100</td><td>9.414652</td><td>102.72297</td><td>0</td></tr>\n",
       "\t<tr><td>130.58594</td><td>53.22953</td><td>0.1334083</td><td>-0.29724164</td><td>2.743311</td><td>22.36255</td><td>8.508364</td><td> 74.03132</td><td>0</td></tr>\n",
       "\t<tr><td>⋮</td><td>⋮</td><td>⋮</td><td>⋮</td><td>⋮</td><td>⋮</td><td>⋮</td><td>⋮</td><td>⋮</td></tr>\n",
       "\t<tr><td>116.0312</td><td>43.21385</td><td> 0.66345569</td><td> 0.4330880</td><td>0.7851171</td><td>11.62815</td><td>17.055215</td><td>312.20433</td><td>0</td></tr>\n",
       "\t<tr><td>135.6641</td><td>49.93375</td><td>-0.08994031</td><td>-0.2267262</td><td>3.8595318</td><td>21.50150</td><td> 7.398395</td><td> 62.33402</td><td>0</td></tr>\n",
       "\t<tr><td>120.7266</td><td>50.47226</td><td> 0.34617808</td><td> 0.1847972</td><td>0.7692308</td><td>11.79260</td><td>17.662222</td><td>329.54802</td><td>0</td></tr>\n",
       "</tbody>\n",
       "</table>\n"
      ],
      "text/latex": [
       "A tibble: 9273 × 9\n",
       "\\begin{tabular}{lllllllll}\n",
       " Motip & Sdotip & Ekotip & Sotip & MotDc & SdotDc & EkotDc & SotDc & t\\\\\n",
       " <dbl> & <dbl> & <dbl> & <dbl> & <dbl> & <dbl> & <dbl> & <dbl> & <dbl>\\\\\n",
       "\\hline\n",
       "\t 121.15625 & 48.37297 & 0.3754847 & -0.01316549 & 3.168896 & 18.39937 & 7.449874 &  65.15930 & 0\\\\\n",
       "\t  76.96875 & 36.17556 & 0.7128979 &  3.38871856 & 2.399666 & 17.57100 & 9.414652 & 102.72297 & 0\\\\\n",
       "\t 130.58594 & 53.22953 & 0.1334083 & -0.29724164 & 2.743311 & 22.36255 & 8.508364 &  74.03132 & 0\\\\\n",
       "\t ⋮ & ⋮ & ⋮ & ⋮ & ⋮ & ⋮ & ⋮ & ⋮ & ⋮\\\\\n",
       "\t 116.0312 & 43.21385 &  0.66345569 &  0.4330880 & 0.7851171 & 11.62815 & 17.055215 & 312.20433 & 0\\\\\n",
       "\t 135.6641 & 49.93375 & -0.08994031 & -0.2267262 & 3.8595318 & 21.50150 &  7.398395 &  62.33402 & 0\\\\\n",
       "\t 120.7266 & 50.47226 &  0.34617808 &  0.1847972 & 0.7692308 & 11.79260 & 17.662222 & 329.54802 & 0\\\\\n",
       "\\end{tabular}\n"
      ],
      "text/markdown": [
       "\n",
       "A tibble: 9273 × 9\n",
       "\n",
       "| Motip &lt;dbl&gt; | Sdotip &lt;dbl&gt; | Ekotip &lt;dbl&gt; | Sotip &lt;dbl&gt; | MotDc &lt;dbl&gt; | SdotDc &lt;dbl&gt; | EkotDc &lt;dbl&gt; | SotDc &lt;dbl&gt; | t &lt;dbl&gt; |\n",
       "|---|---|---|---|---|---|---|---|---|\n",
       "| 121.15625 | 48.37297 | 0.3754847 | -0.01316549 | 3.168896 | 18.39937 | 7.449874 |  65.15930 | 0 |\n",
       "|  76.96875 | 36.17556 | 0.7128979 |  3.38871856 | 2.399666 | 17.57100 | 9.414652 | 102.72297 | 0 |\n",
       "| 130.58594 | 53.22953 | 0.1334083 | -0.29724164 | 2.743311 | 22.36255 | 8.508364 |  74.03132 | 0 |\n",
       "| ⋮ | ⋮ | ⋮ | ⋮ | ⋮ | ⋮ | ⋮ | ⋮ | ⋮ |\n",
       "| 116.0312 | 43.21385 |  0.66345569 |  0.4330880 | 0.7851171 | 11.62815 | 17.055215 | 312.20433 | 0 |\n",
       "| 135.6641 | 49.93375 | -0.08994031 | -0.2267262 | 3.8595318 | 21.50150 |  7.398395 |  62.33402 | 0 |\n",
       "| 120.7266 | 50.47226 |  0.34617808 |  0.1847972 | 0.7692308 | 11.79260 | 17.662222 | 329.54802 | 0 |\n",
       "\n"
      ],
      "text/plain": [
       "     Motip     Sdotip   Ekotip      Sotip       MotDc     SdotDc   EkotDc   \n",
       "1    121.15625 48.37297 0.3754847   -0.01316549 3.168896  18.39937 7.449874 \n",
       "2     76.96875 36.17556 0.7128979    3.38871856 2.399666  17.57100 9.414652 \n",
       "3    130.58594 53.22953 0.1334083   -0.29724164 2.743311  22.36255 8.508364 \n",
       "⋮    ⋮         ⋮        ⋮           ⋮           ⋮         ⋮        ⋮        \n",
       "9271 116.0312  43.21385  0.66345569  0.4330880  0.7851171 11.62815 17.055215\n",
       "9272 135.6641  49.93375 -0.08994031 -0.2267262  3.8595318 21.50150  7.398395\n",
       "9273 120.7266  50.47226  0.34617808  0.1847972  0.7692308 11.79260 17.662222\n",
       "     SotDc     t\n",
       "1     65.15930 0\n",
       "2    102.72297 0\n",
       "3     74.03132 0\n",
       "⋮    ⋮         ⋮\n",
       "9271 312.20433 0\n",
       "9272  62.33402 0\n",
       "9273 329.54802 0"
      ]
     },
     "metadata": {},
     "output_type": "display_data"
    }
   ],
   "source": [
    "pulsar_names = c()\n",
    "for(n in names(pulsar_training)){\n",
    "    acroynm = ''\n",
    "    for(word in str_split(n, ' ')){\n",
    "        acroynm = paste(acroynm,substr(word,1,1), sep = '', collapse='')\n",
    "    }\n",
    "    pulsar_names = c(pulsar_names,acroynm)\n",
    "}\n",
    "names(pulsar_training)<-pulsar_names\n",
    "pulsar_training\n",
    "\n",
    "\n"
   ]
  },
  {
   "cell_type": "code",
   "execution_count": 155,
   "metadata": {},
   "outputs": [
    {
     "data": {
      "text/plain": [
       "              Df Sum Sq Mean Sq F value Pr(>F)    \n",
       "Motip          1  352.6   352.6    7794 <2e-16 ***\n",
       "Residuals   9271  419.4     0.0                   \n",
       "---\n",
       "Signif. codes:  0 ‘***’ 0.001 ‘**’ 0.01 ‘*’ 0.05 ‘.’ 0.1 ‘ ’ 1"
      ]
     },
     "metadata": {},
     "output_type": "display_data"
    },
    {
     "data": {
      "text/html": [
       "<table>\n",
       "<caption>A tibble: 4 × 2</caption>\n",
       "<thead>\n",
       "\t<tr><th scope=col>predictor</th><th scope=col>value</th></tr>\n",
       "\t<tr><th scope=col>&lt;chr&gt;</th><th scope=col>&lt;dbl&gt;</th></tr>\n",
       "</thead>\n",
       "<tbody>\n",
       "\t<tr><td>Ekotip</td><td>15482.646</td></tr>\n",
       "\t<tr><td>Sotip </td><td> 9148.079</td></tr>\n",
       "\t<tr><td>Motip </td><td> 7794.219</td></tr>\n",
       "\t<tr><td>SdotDc</td><td> 2979.422</td></tr>\n",
       "</tbody>\n",
       "</table>\n"
      ],
      "text/latex": [
       "A tibble: 4 × 2\n",
       "\\begin{tabular}{ll}\n",
       " predictor & value\\\\\n",
       " <chr> & <dbl>\\\\\n",
       "\\hline\n",
       "\t Ekotip & 15482.646\\\\\n",
       "\t Sotip  &  9148.079\\\\\n",
       "\t Motip  &  7794.219\\\\\n",
       "\t SdotDc &  2979.422\\\\\n",
       "\\end{tabular}\n"
      ],
      "text/markdown": [
       "\n",
       "A tibble: 4 × 2\n",
       "\n",
       "| predictor &lt;chr&gt; | value &lt;dbl&gt; |\n",
       "|---|---|\n",
       "| Ekotip | 15482.646 |\n",
       "| Sotip  |  9148.079 |\n",
       "| Motip  |  7794.219 |\n",
       "| SdotDc |  2979.422 |\n",
       "\n"
      ],
      "text/plain": [
       "  predictor value    \n",
       "1 Ekotip    15482.646\n",
       "2 Sotip      9148.079\n",
       "3 Motip      7794.219\n",
       "4 SdotDc     2979.422"
      ]
     },
     "metadata": {},
     "output_type": "display_data"
    },
    {
     "data": {
      "text/plain": [
       "              Df Sum Sq Mean Sq F value Pr(>F)    \n",
       "Ekotip         1  482.9   482.9 18013.7 <2e-16 ***\n",
       "Sotip          1   12.9    12.9   481.6 <2e-16 ***\n",
       "Motip          1   11.5    11.5   428.0 <2e-16 ***\n",
       "SdotDc         1   16.3    16.3   609.1 <2e-16 ***\n",
       "Residuals   9268  248.5     0.0                   \n",
       "---\n",
       "Signif. codes:  0 ‘***’ 0.001 ‘**’ 0.01 ‘*’ 0.05 ‘.’ 0.1 ‘ ’ 1"
      ]
     },
     "metadata": {},
     "output_type": "display_data"
    }
   ],
   "source": [
    "# aov(t ~ Motip, data=pulsar_training)\n",
    "summary(aov(t ~ Motip, data=pulsar_training))\n",
    "# residuals(aov(t ~ Motip, data=pulsar_training))\n",
    "aov.models = pulsar_training %>%\n",
    "  map(~ summary(aov(pulsar_training$t ~ .x))[[1]][[\"F value\"]][1])\n",
    "\n",
    "as_tibble(aov.models) %>%\n",
    "pivot_longer(cols=Motip:t, names_to=\"predictor\") %>%\n",
    "filter(predictor != 't') %>%\n",
    "arrange(desc(value)) %>%\n",
    "head(4)\n",
    "\n",
    "summary(aov(t ~ Ekotip + Sotip + Motip + SdotDc, data=pulsar_training))"
   ]
  },
  {
   "cell_type": "code",
   "execution_count": 124,
   "metadata": {},
   "outputs": [
    {
     "name": "stderr",
     "output_type": "stream",
     "text": [
      "Parsed with column specification:\n",
      "cols(\n",
      "  Sample = \u001b[32mcol_double()\u001b[39m,\n",
      "  Strength = \u001b[32mcol_double()\u001b[39m\n",
      ")\n",
      "\n"
     ]
    },
    {
     "data": {
      "text/plain": [
       "            Df Sum Sq Mean Sq F value Pr(>F)  \n",
       "Sample       1  14.31  14.305   2.895  0.097 .\n",
       "Residuals   38 187.78   4.942                 \n",
       "---\n",
       "Signif. codes:  0 ‘***’ 0.001 ‘**’ 0.01 ‘*’ 0.05 ‘.’ 0.1 ‘ ’ 1"
      ]
     },
     "metadata": {},
     "output_type": "display_data"
    }
   ],
   "source": [
    "owe = read_csv(\"OneWayExample.csv\")\n",
    "summary(aov(Strength ~ Sample, data=owe))"
   ]
  },
  {
   "cell_type": "code",
   "execution_count": 125,
   "metadata": {},
   "outputs": [
    {
     "data": {
      "text/plain": [
       "     Motip             Sdotip          Ekotip            Sotip        \n",
       " Min.   :  6.188   Min.   :24.77   Min.   :-1.7380   Min.   :-1.7919  \n",
       " 1st Qu.:100.984   1st Qu.:42.40   1st Qu.: 0.0245   1st Qu.:-0.1880  \n",
       " Median :115.234   Median :46.90   Median : 0.2239   Median : 0.2029  \n",
       " Mean   :111.134   Mean   :46.51   Mean   : 0.4795   Mean   : 1.7907  \n",
       " 3rd Qu.:127.328   3rd Qu.:51.00   3rd Qu.: 0.4721   3rd Qu.: 0.9307  \n",
       " Max.   :189.734   Max.   :91.81   Max.   : 8.0695   Max.   :68.1016  \n",
       "     MotDc              SdotDc           EkotDc           SotDc         \n",
       " Min.   :  0.2132   Min.   :  7.37   Min.   :-2.637   Min.   :  -1.977  \n",
       " 1st Qu.:  1.9105   1st Qu.: 14.38   1st Qu.: 5.789   1st Qu.:  34.918  \n",
       " Median :  2.7977   Median : 18.44   Median : 8.427   Median :  83.152  \n",
       " Mean   : 12.7354   Mean   : 26.33   Mean   : 8.328   Mean   : 105.783  \n",
       " 3rd Qu.:  5.4599   3rd Qu.: 28.39   3rd Qu.:10.722   3rd Qu.: 139.770  \n",
       " Max.   :211.9490   Max.   :110.64   Max.   :34.540   Max.   :1191.001  \n",
       "       t          \n",
       " Min.   :0.00000  \n",
       " 1st Qu.:0.00000  \n",
       " Median :0.00000  \n",
       " Mean   :0.09166  \n",
       " 3rd Qu.:0.00000  \n",
       " Max.   :1.00000  "
      ]
     },
     "metadata": {},
     "output_type": "display_data"
    }
   ],
   "source": [
    "summary(pulsar_training)"
   ]
  },
  {
   "cell_type": "code",
   "execution_count": null,
   "metadata": {},
   "outputs": [],
   "source": []
  }
 ],
 "metadata": {
  "kernelspec": {
   "display_name": "R",
   "language": "R",
   "name": "ir"
  },
  "language_info": {
   "codemirror_mode": "r",
   "file_extension": ".r",
   "mimetype": "text/x-r-source",
   "name": "R",
   "pygments_lexer": "r",
   "version": "4.0.0"
  }
 },
 "nbformat": 4,
 "nbformat_minor": 4
}
