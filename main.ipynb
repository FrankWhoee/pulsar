{
 "cells": [
  {
   "cell_type": "markdown",
   "metadata": {},
   "source": [
    "# PulsarPrediction\n",
    "\n",
    "## Introduction"
   ]
  },
  {
   "cell_type": "markdown",
   "metadata": {},
   "source": [
    "## Preliminary exploratory data analysis\n",
    "\n",
    "### Importing libraries"
   ]
  },
  {
   "cell_type": "code",
   "execution_count": 31,
   "metadata": {},
   "outputs": [],
   "source": [
    "suppressMessages(library(tidyverse))\n",
    "suppressMessages(library(repr))\n",
    "suppressMessages(library(tidymodels))\n",
    "options(repr.matrix.max.rows = 6)"
   ]
  },
  {
   "cell_type": "markdown",
   "metadata": {},
   "source": [
    "### Reading data\n",
    "Data was downloaded from kaggle.com as CSV files. \n",
    "Kaggle provided training and testing data. It should be noted that Kaggle testing\n",
    "data is unlabelled, so model evaluation must be done with some proportion of training\n",
    "data."
   ]
  },
  {
   "cell_type": "code",
   "execution_count": 44,
   "metadata": {},
   "outputs": [
    {
     "name": "stdout",
     "output_type": "stream",
     "text": [
      "[1] \"pulsar_training has 12528 observations,\"\n",
      "[1] \"9 variables, and\"\n",
      "[1] \"3255 NA observations.\"\n",
      "[1] \"Column names before shortening are: \"\n",
      "[1] \"Mean of the integrated profile\"\n",
      "[1] \"Standard deviation of the integrated profile\"\n",
      "[1] \"Excess kurtosis of the integrated profile\"\n",
      "[1] \"Skewness of the integrated profile\"\n",
      "[1] \"Mean of the DM-SNR curve\"\n",
      "[1] \"Standard deviation of the DM-SNR curve\"\n",
      "[1] \"Excess kurtosis of the DM-SNR curve\"\n",
      "[1] \"Skewness of the DM-SNR curve\"\n",
      "[1] \"target_class\"\n"
     ]
    }
   ],
   "source": [
    "pulsar_training = read_csv(\"pulsar_data_train.csv\",col_types = cols())\n",
    "\n",
    "print(paste(\"pulsar_training has\", nrow(pulsar_training), \"observations,\"))\n",
    "print(paste(ncol(pulsar_training), \"variables, and\"))\n",
    "print(paste(sum(rowSums(is.na(pulsar_training)) > 0), \"NA observations.\"))\n",
    "print(\"Column names before shortening are: \")\n",
    "for(n in names(pulsar_training)){\n",
    "    print(n)\n",
    "}"
   ]
  },
  {
   "cell_type": "markdown",
   "metadata": {},
   "source": [
    "### Shortening column names"
   ]
  },
  {
   "cell_type": "code",
   "execution_count": 45,
   "metadata": {},
   "outputs": [
    {
     "name": "stdout",
     "output_type": "stream",
     "text": [
      "[1] \"Column names after shortening are: \"\n",
      "[1] \"Motip\"\n",
      "[1] \"Sdotip\"\n",
      "[1] \"Ekotip\"\n",
      "[1] \"Sotip\"\n",
      "[1] \"MotDc\"\n",
      "[1] \"SdotDc\"\n",
      "[1] \"EkotDc\"\n",
      "[1] \"SotDc\"\n",
      "[1] \"t\"\n"
     ]
    }
   ],
   "source": [
    "pulsar_names = c()\n",
    "for(n in names(pulsar_training)){\n",
    "    acroynm = ''\n",
    "    for(word in str_split(n, ' ')){\n",
    "        acroynm = paste(acroynm,substr(word,1,1), sep = '', collapse='')\n",
    "    }\n",
    "    pulsar_names = c(pulsar_names,acroynm)\n",
    "}\n",
    "names(pulsar_training)<-pulsar_names\n",
    "print(\"Column names after shortening are: \")\n",
    "for(n in names(pulsar_training)){\n",
    "    print(n)\n",
    "}"
   ]
  },
  {
   "cell_type": "markdown",
   "metadata": {},
   "source": [
    "### Removing NA entries"
   ]
  },
  {
   "cell_type": "code",
   "execution_count": 48,
   "metadata": {},
   "outputs": [
    {
     "name": "stdout",
     "output_type": "stream",
     "text": [
      "[1] \"pulsar_training has 9273 observations,\"\n",
      "[1] \"9 variables, and\"\n",
      "[1] \"0 NA observations.\"\n"
     ]
    }
   ],
   "source": [
    "pulsar_training = na.omit(pulsar_training)\n",
    "print(paste(\"pulsar_training has\", nrow(pulsar_training), \"observations,\"))\n",
    "print(paste(ncol(pulsar_training), \"variables, and\"))\n",
    "print(paste(sum(rowSums(is.na(pulsar_training)) > 0), \"NA observations.\"))"
   ]
  },
  {
   "cell_type": "markdown",
   "metadata": {},
   "source": [
    "### Data summary and visualization\n",
    "\n",
    "The goal of this summary will both be to get a general feel for the data, but more importantly to serve as guidance for feature selection, so we will be\n",
    "splitting the data into positive and negative cases for a more accurate depiction of the data, since there are approximately 10 times more negative cases, which will heavily influence the overall summary and visualization.\n"
   ]
  },
  {
   "cell_type": "code",
   "execution_count": 12,
   "metadata": {},
   "outputs": [],
   "source": [
    "# Data split\n",
    "pulsar_pos = pulsar_training %>%\n",
    "filter(t == 1)\n",
    "\n",
    "pulsar_neg = pulsar_training %>%\n",
    "filter(t == 0)"
   ]
  },
  {
   "cell_type": "code",
   "execution_count": 46,
   "metadata": {},
   "outputs": [],
   "source": [
    "# Create plots\n",
    "pulsar_plot = gather(pulsar_training) %>%\n",
    "filter(key != 't') %>%\n",
    "ggplot(aes(value)) +\n",
    "geom_histogram(bins=15, fill='darkblue')+\n",
    "facet_wrap(~key, scales = 'free_x')\n",
    "\n",
    "pulsar_pos_plot = gather(pulsar_pos) %>%\n",
    "filter(key != 't') %>%\n",
    "ggplot(aes(value)) +\n",
    "geom_histogram(bins=15, fill='coral')+\n",
    "facet_wrap(~key, scales = 'free_x')\n",
    "\n",
    "pulsar_neg_plot = gather(pulsar_neg) %>%\n",
    "filter(key != 't') %>%\n",
    "ggplot(aes(value)) +\n",
    "geom_histogram(bins=15, fill='dodgerblue')+\n",
    "facet_wrap(~key, scales = 'free_x')"
   ]
  },
  {
   "cell_type": "markdown",
   "metadata": {},
   "source": [
    "#### Overall plot\n",
    "\n",
    "We can see that EkotDc, Motip, and Sdotip have roughly normal distributions, but the rest are all skewed to the right."
   ]
  },
  {
   "cell_type": "code",
   "execution_count": 49,
   "metadata": {},
   "outputs": [
    {
     "name": "stderr",
     "output_type": "stream",
     "text": [
      "Warning message:\n",
      "“Removed 3538 rows containing non-finite values (stat_bin).”\n"
     ]
    },
    {
     "data": {
      "image/png": "[encoded data removed]",
      "text/plain": [
       "plot without title"
      ]
     },
     "metadata": {
      "image/png": {
       "height": 420,
       "width": 420
      }
     },
     "output_type": "display_data"
    }
   ],
   "source": [
    "pulsar_plot"
   ]
  },
  {
   "cell_type": "markdown",
   "metadata": {},
   "source": [
    "#### Negative plots\n",
    "\n",
    "Because of just how much negative data there is, the overall plot looks essentially identical to the plot with only negative cases."
   ]
  },
  {
   "cell_type": "code",
   "execution_count": 50,
   "metadata": {},
   "outputs": [
    {
     "data": {
      "image/png": "[encoded data removed]",
      "text/plain": [
       "plot without title"
      ]
     },
     "metadata": {
      "image/png": {
       "height": 420,
       "width": 420
      }
     },
     "output_type": "display_data"
    }
   ],
   "source": [
    "pulsar_neg_plot"
   ]
  },
  {
   "cell_type": "markdown",
   "metadata": {},
   "source": [
    "#### Positive plots\n",
    "\n",
    "The positive plots are dramatically different from both the overall and negative plots. The most different ones are Ekotip, Motip, and SdotDc on account of their different skews and variances."
   ]
  },
  {
   "cell_type": "code",
   "execution_count": 52,
   "metadata": {},
   "outputs": [
    {
     "data": {
      "image/png": "[encoded data removed]",
      "text/plain": [
       "plot without title"
      ]
     },
     "metadata": {
      "image/png": {
       "height": 420,
       "width": 420
      }
     },
     "output_type": "display_data"
    }
   ],
   "source": [
    "pulsar_pos_plot"
   ]
  },
  {
   "cell_type": "markdown",
   "metadata": {},
   "source": [
    "#### Comparison of statistical attributes\n",
    "\n",
    "Here we will compare and contrast the mean, median, and standard deviation of each attribute of both classes."
   ]
  },
  {
   "cell_type": "code",
   "execution_count": 93,
   "metadata": {},
   "outputs": [
    {
     "data": {
      "text/html": [
       "<table>\n",
       "<caption>A data.frame: 4 × 5</caption>\n",
       "<thead>\n",
       "\t<tr><th></th><th scope=col>name</th><th scope=col>pos_mean</th><th scope=col>pos_stdev</th><th scope=col>neg_mean</th><th scope=col>neg_stdev</th></tr>\n",
       "\t<tr><th></th><th scope=col>&lt;chr&gt;</th><th scope=col>&lt;dbl&gt;</th><th scope=col>&lt;dbl&gt;</th><th scope=col>&lt;dbl&gt;</th><th scope=col>&lt;dbl&gt;</th></tr>\n",
       "</thead>\n",
       "<tbody>\n",
       "\t<tr><th scope=row>1</th><td>Motip </td><td>56.490790</td><td>29.840725</td><td>116.6479988</td><td>17.4600853</td></tr>\n",
       "\t<tr><th scope=row>2</th><td>Sdotip</td><td>38.653987</td><td> 7.974646</td><td> 47.3072449</td><td> 6.1116413</td></tr>\n",
       "\t<tr><th scope=row>3</th><td>Ekotip</td><td> 3.146134</td><td> 1.894812</td><td>  0.2104498</td><td> 0.3334176</td></tr>\n",
       "\t<tr><th scope=row>4</th><td>Sotip </td><td>15.736526</td><td>14.396040</td><td>  0.3833387</td><td> 1.0040248</td></tr>\n",
       "</tbody>\n",
       "</table>\n"
      ],
      "text/latex": [
       "A data.frame: 4 × 5\n",
       "\\begin{tabular}{r|lllll}\n",
       "  & name & pos\\_mean & pos\\_stdev & neg\\_mean & neg\\_stdev\\\\\n",
       "  & <chr> & <dbl> & <dbl> & <dbl> & <dbl>\\\\\n",
       "\\hline\n",
       "\t1 & Motip  & 56.490790 & 29.840725 & 116.6479988 & 17.4600853\\\\\n",
       "\t2 & Sdotip & 38.653987 &  7.974646 &  47.3072449 &  6.1116413\\\\\n",
       "\t3 & Ekotip &  3.146134 &  1.894812 &   0.2104498 &  0.3334176\\\\\n",
       "\t4 & Sotip  & 15.736526 & 14.396040 &   0.3833387 &  1.0040248\\\\\n",
       "\\end{tabular}\n"
      ],
      "text/markdown": [
       "\n",
       "A data.frame: 4 × 5\n",
       "\n",
       "| <!--/--> | name &lt;chr&gt; | pos_mean &lt;dbl&gt; | pos_stdev &lt;dbl&gt; | neg_mean &lt;dbl&gt; | neg_stdev &lt;dbl&gt; |\n",
       "|---|---|---|---|---|---|\n",
       "| 1 | Motip  | 56.490790 | 29.840725 | 116.6479988 | 17.4600853 |\n",
       "| 2 | Sdotip | 38.653987 |  7.974646 |  47.3072449 |  6.1116413 |\n",
       "| 3 | Ekotip |  3.146134 |  1.894812 |   0.2104498 |  0.3334176 |\n",
       "| 4 | Sotip  | 15.736526 | 14.396040 |   0.3833387 |  1.0040248 |\n",
       "\n"
      ],
      "text/plain": [
       "  name   pos_mean  pos_stdev neg_mean    neg_stdev \n",
       "1 Motip  56.490790 29.840725 116.6479988 17.4600853\n",
       "2 Sdotip 38.653987  7.974646  47.3072449  6.1116413\n",
       "3 Ekotip  3.146134  1.894812   0.2104498  0.3334176\n",
       "4 Sotip  15.736526 14.396040   0.3833387  1.0040248"
      ]
     },
     "metadata": {},
     "output_type": "display_data"
    },
    {
     "data": {
      "text/html": [
       "<table>\n",
       "<caption>A data.frame: 4 × 5</caption>\n",
       "<thead>\n",
       "\t<tr><th></th><th scope=col>name</th><th scope=col>pos_mean</th><th scope=col>pos_stdev</th><th scope=col>neg_mean</th><th scope=col>neg_stdev</th></tr>\n",
       "\t<tr><th></th><th scope=col>&lt;chr&gt;</th><th scope=col>&lt;dbl&gt;</th><th scope=col>&lt;dbl&gt;</th><th scope=col>&lt;dbl&gt;</th><th scope=col>&lt;dbl&gt;</th></tr>\n",
       "</thead>\n",
       "<tbody>\n",
       "\t<tr><th scope=row>5</th><td>MotDc </td><td>50.874638</td><td>45.938321</td><td>  8.886566</td><td> 24.51792</td></tr>\n",
       "\t<tr><th scope=row>6</th><td>SdotDc</td><td>56.664961</td><td>19.746352</td><td> 23.266417</td><td> 16.70009</td></tr>\n",
       "\t<tr><th scope=row>7</th><td>EkotDc</td><td> 2.737318</td><td> 3.085782</td><td>  8.892105</td><td>  4.28467</td></tr>\n",
       "\t<tr><th scope=row>8</th><td>SotDc </td><td>17.793435</td><td>46.167913</td><td>114.662773</td><td>108.65428</td></tr>\n",
       "</tbody>\n",
       "</table>\n"
      ],
      "text/latex": [
       "A data.frame: 4 × 5\n",
       "\\begin{tabular}{r|lllll}\n",
       "  & name & pos\\_mean & pos\\_stdev & neg\\_mean & neg\\_stdev\\\\\n",
       "  & <chr> & <dbl> & <dbl> & <dbl> & <dbl>\\\\\n",
       "\\hline\n",
       "\t5 & MotDc  & 50.874638 & 45.938321 &   8.886566 &  24.51792\\\\\n",
       "\t6 & SdotDc & 56.664961 & 19.746352 &  23.266417 &  16.70009\\\\\n",
       "\t7 & EkotDc &  2.737318 &  3.085782 &   8.892105 &   4.28467\\\\\n",
       "\t8 & SotDc  & 17.793435 & 46.167913 & 114.662773 & 108.65428\\\\\n",
       "\\end{tabular}\n"
      ],
      "text/markdown": [
       "\n",
       "A data.frame: 4 × 5\n",
       "\n",
       "| <!--/--> | name &lt;chr&gt; | pos_mean &lt;dbl&gt; | pos_stdev &lt;dbl&gt; | neg_mean &lt;dbl&gt; | neg_stdev &lt;dbl&gt; |\n",
       "|---|---|---|---|---|---|\n",
       "| 5 | MotDc  | 50.874638 | 45.938321 |   8.886566 |  24.51792 |\n",
       "| 6 | SdotDc | 56.664961 | 19.746352 |  23.266417 |  16.70009 |\n",
       "| 7 | EkotDc |  2.737318 |  3.085782 |   8.892105 |   4.28467 |\n",
       "| 8 | SotDc  | 17.793435 | 46.167913 | 114.662773 | 108.65428 |\n",
       "\n"
      ],
      "text/plain": [
       "  name   pos_mean  pos_stdev neg_mean   neg_stdev\n",
       "5 MotDc  50.874638 45.938321   8.886566  24.51792\n",
       "6 SdotDc 56.664961 19.746352  23.266417  16.70009\n",
       "7 EkotDc  2.737318  3.085782   8.892105   4.28467\n",
       "8 SotDc  17.793435 46.167913 114.662773 108.65428"
      ]
     },
     "metadata": {},
     "output_type": "display_data"
    }
   ],
   "source": [
    "# Part 1 - Getting means and stdev\n",
    "\n",
    "posmeans = pulsar_pos %>% \n",
    "map_df(mean) %>%\n",
    "select(-t) %>%\n",
    "pivot_longer(cols=Motip:SotDc)\n",
    "names(posmeans) <- c(\"name\", \"pos_mean\")\n",
    "\n",
    "posdev = pulsar_pos %>% \n",
    "map_df(sd) %>%\n",
    "select(-t) %>%\n",
    "pivot_longer(cols=Motip:SotDc) %>%\n",
    "select(-name)\n",
    "names(posdev) <- c(\"pos_stdev\")\n",
    "\n",
    "negmeans = pulsar_neg %>% \n",
    "map_df(mean) %>%\n",
    "select(-t) %>%\n",
    "pivot_longer(cols=Motip:SotDc)%>%\n",
    "select(-name)\n",
    "names(negmeans) <- c(\"neg_mean\")\n",
    "\n",
    "negdev = pulsar_neg %>% \n",
    "map_df(sd) %>%\n",
    "select(-t) %>%\n",
    "pivot_longer(cols=Motip:SotDc) %>%\n",
    "select(-name)\n",
    "names(negdev) <- c(\"neg_stdev\")\n",
    "\n",
    "summarized = cbind(posmeans,posdev, negmeans,negdev)\n",
    "summarized %>% head(4)\n",
    "summarized %>% tail(4)"
   ]
  },
  {
   "cell_type": "code",
   "execution_count": 108,
   "metadata": {},
   "outputs": [
    {
     "data": {
      "text/html": [
       "1.07357024047458"
      ],
      "text/latex": [
       "1.07357024047458"
      ],
      "text/markdown": [
       "1.07357024047458"
      ],
      "text/plain": [
       "[1] 1.07357"
      ]
     },
     "metadata": {},
     "output_type": "display_data"
    },
    {
     "data": {
      "text/html": [
       "<table>\n",
       "<caption>A data.frame: 8 × 3</caption>\n",
       "<thead>\n",
       "\t<tr><th scope=col>name</th><th scope=col>mean_diff</th><th scope=col>stdev_bigger</th></tr>\n",
       "\t<tr><th scope=col>&lt;chr&gt;</th><th scope=col>&lt;dbl&gt;</th><th scope=col>&lt;dbl&gt;</th></tr>\n",
       "</thead>\n",
       "<tbody>\n",
       "\t<tr><td>Sdotip</td><td>0.1829161</td><td> 8.561343</td></tr>\n",
       "\t<tr><td>Motip </td><td>0.5157157</td><td>32.036114</td></tr>\n",
       "\t<tr><td>SdotDc</td><td>0.5894038</td><td>21.199096</td></tr>\n",
       "\t<tr><td>⋮</td><td>⋮</td><td>⋮</td></tr>\n",
       "\t<tr><td>SotDc </td><td>0.8448194</td><td>116.647999</td></tr>\n",
       "\t<tr><td>Ekotip</td><td>0.9331085</td><td>  2.034213</td></tr>\n",
       "\t<tr><td>Sotip </td><td>0.9756402</td><td> 15.455160</td></tr>\n",
       "</tbody>\n",
       "</table>\n"
      ],
      "text/latex": [
       "A data.frame: 8 × 3\n",
       "\\begin{tabular}{lll}\n",
       " name & mean\\_diff & stdev\\_bigger\\\\\n",
       " <chr> & <dbl> & <dbl>\\\\\n",
       "\\hline\n",
       "\t Sdotip & 0.1829161 &  8.561343\\\\\n",
       "\t Motip  & 0.5157157 & 32.036114\\\\\n",
       "\t SdotDc & 0.5894038 & 21.199096\\\\\n",
       "\t ⋮ & ⋮ & ⋮\\\\\n",
       "\t SotDc  & 0.8448194 & 116.647999\\\\\n",
       "\t Ekotip & 0.9331085 &   2.034213\\\\\n",
       "\t Sotip  & 0.9756402 &  15.455160\\\\\n",
       "\\end{tabular}\n"
      ],
      "text/markdown": [
       "\n",
       "A data.frame: 8 × 3\n",
       "\n",
       "| name &lt;chr&gt; | mean_diff &lt;dbl&gt; | stdev_bigger &lt;dbl&gt; |\n",
       "|---|---|---|\n",
       "| Sdotip | 0.1829161 |  8.561343 |\n",
       "| Motip  | 0.5157157 | 32.036114 |\n",
       "| SdotDc | 0.5894038 | 21.199096 |\n",
       "| ⋮ | ⋮ | ⋮ |\n",
       "| SotDc  | 0.8448194 | 116.647999 |\n",
       "| Ekotip | 0.9331085 |   2.034213 |\n",
       "| Sotip  | 0.9756402 |  15.455160 |\n",
       "\n"
      ],
      "text/plain": [
       "  name   mean_diff stdev_bigger\n",
       "1 Sdotip 0.1829161  8.561343   \n",
       "2 Motip  0.5157157 32.036114   \n",
       "3 SdotDc 0.5894038 21.199096   \n",
       "⋮ ⋮      ⋮         ⋮           \n",
       "6 SotDc  0.8448194 116.647999  \n",
       "7 Ekotip 0.9331085   2.034213  \n",
       "8 Sotip  0.9756402  15.455160  "
      ]
     },
     "metadata": {},
     "output_type": "display_data"
    },
    {
     "data": {
      "image/png": "[encoded data removed]",
      "text/plain": [
       "plot without title"
      ]
     },
     "metadata": {
      "image/png": {
       "height": 420,
       "width": 420
      }
     },
     "output_type": "display_data"
    }
   ],
   "source": [
    "(max(c(summarized$pos_mean,summarized$neg_mean))/max(c(summarized$pos_stdev, summarized$neg_stdev)))\n",
    "# Part 2 - Finding percentage difference of the larger\n",
    "percent_diff = summarized %>%\n",
    "mutate(mean_diff = case_when(pos_mean > neg_mean ~ (pos_mean - neg_mean)/pos_mean, TRUE ~ (neg_mean - pos_mean)/neg_mean)) %>%\n",
    "mutate(stdev_bigger = case_when(pos_stdev > neg_stdev ~ pos_stdev, TRUE ~ neg_stdev) * (max(c(pos_mean,neg_mean))/max(c(pos_stdev, neg_stdev)))) %>%\n",
    "select(name, mean_diff,stdev_bigger) %>%\n",
    "arrange(mean_diff)\n",
    "percent_diff\n",
    "\n",
    "# Part 3 - Plotting percange difference\n",
    "percent_diff_plot <- percent_diff %>%\n",
    "pivot_longer(cols=mean_diff:stdev_bigger, names_to=\"label\") %>%\n",
    "ggplot(aes(x=name, y=value, fill=label))+\n",
    "geom_bar(position=\"dodge\",  stat=\"identity\")+\n",
    "labs(x=\"Feature\", y=\"% difference of the larger\")\n",
    "percent_diff_plot"
   ]
  },
  {
   "cell_type": "markdown",
   "metadata": {},
   "source": [
    "**Interpretation**\n",
    "This analysis is meant to assist in feature selection. Here I have calculated the means and standard deviation in Part 1, then found the percentage mean difference between positive and negative cases. The formula for this is:\n",
    "\n",
    "$$ \\frac{|\\mu_{pos} - \\mu_{neg}|}{max(\\mu_{pos},\\mu_{neg})} $$"
   ]
  },
  {
   "cell_type": "code",
   "execution_count": 95,
   "metadata": {},
   "outputs": [
    {
     "data": {
      "text/plain": [
       "              Df Sum Sq Mean Sq F value Pr(>F)    \n",
       "Motip          1  352.6   352.6    7794 <2e-16 ***\n",
       "Residuals   9271  419.4     0.0                   \n",
       "---\n",
       "Signif. codes:  0 ‘***’ 0.001 ‘**’ 0.01 ‘*’ 0.05 ‘.’ 0.1 ‘ ’ 1"
      ]
     },
     "metadata": {},
     "output_type": "display_data"
    },
    {
     "data": {
      "text/html": [
       "<table>\n",
       "<caption>A tibble: 4 × 2</caption>\n",
       "<thead>\n",
       "\t<tr><th scope=col>predictor</th><th scope=col>value</th></tr>\n",
       "\t<tr><th scope=col>&lt;chr&gt;</th><th scope=col>&lt;dbl&gt;</th></tr>\n",
       "</thead>\n",
       "<tbody>\n",
       "\t<tr><td>Ekotip</td><td>15482.646</td></tr>\n",
       "\t<tr><td>Sotip </td><td> 9148.079</td></tr>\n",
       "\t<tr><td>Motip </td><td> 7794.219</td></tr>\n",
       "\t<tr><td>SdotDc</td><td> 2979.422</td></tr>\n",
       "</tbody>\n",
       "</table>\n"
      ],
      "text/latex": [
       "A tibble: 4 × 2\n",
       "\\begin{tabular}{ll}\n",
       " predictor & value\\\\\n",
       " <chr> & <dbl>\\\\\n",
       "\\hline\n",
       "\t Ekotip & 15482.646\\\\\n",
       "\t Sotip  &  9148.079\\\\\n",
       "\t Motip  &  7794.219\\\\\n",
       "\t SdotDc &  2979.422\\\\\n",
       "\\end{tabular}\n"
      ],
      "text/markdown": [
       "\n",
       "A tibble: 4 × 2\n",
       "\n",
       "| predictor &lt;chr&gt; | value &lt;dbl&gt; |\n",
       "|---|---|\n",
       "| Ekotip | 15482.646 |\n",
       "| Sotip  |  9148.079 |\n",
       "| Motip  |  7794.219 |\n",
       "| SdotDc |  2979.422 |\n",
       "\n"
      ],
      "text/plain": [
       "  predictor value    \n",
       "1 Ekotip    15482.646\n",
       "2 Sotip      9148.079\n",
       "3 Motip      7794.219\n",
       "4 SdotDc     2979.422"
      ]
     },
     "metadata": {},
     "output_type": "display_data"
    },
    {
     "data": {
      "text/plain": [
       "              Df Sum Sq Mean Sq F value Pr(>F)    \n",
       "Motip          1  352.6   352.6 13154.0 <2e-16 ***\n",
       "Ekotip         1  130.9   130.9  4884.1 <2e-16 ***\n",
       "Sotip          1   23.7    23.7   885.2 <2e-16 ***\n",
       "SdotDc         1   16.3    16.3   609.1 <2e-16 ***\n",
       "Residuals   9268  248.5     0.0                   \n",
       "---\n",
       "Signif. codes:  0 ‘***’ 0.001 ‘**’ 0.01 ‘*’ 0.05 ‘.’ 0.1 ‘ ’ 1"
      ]
     },
     "metadata": {},
     "output_type": "display_data"
    },
    {
     "data": {
      "text/plain": [
       "              Df Sum Sq Mean Sq   F value Pr(>F)    \n",
       "Motip          1  352.6   352.6 13277.278 <2e-16 ***\n",
       "Ekotip         1  130.9   130.9  4929.838 <2e-16 ***\n",
       "Sotip          1   23.7    23.7   893.463 <2e-16 ***\n",
       "MotDc          1    4.1     4.1   153.622 <2e-16 ***\n",
       "SdotDc         1   14.5    14.5   544.457 <2e-16 ***\n",
       "SotDc          1    0.1     0.1     5.563 0.0184 *  \n",
       "Residuals   9266  246.1     0.0                     \n",
       "---\n",
       "Signif. codes:  0 ‘***’ 0.001 ‘**’ 0.01 ‘*’ 0.05 ‘.’ 0.1 ‘ ’ 1"
      ]
     },
     "metadata": {},
     "output_type": "display_data"
    },
    {
     "data": {
      "text/plain": [
       "              Df Sum Sq Mean Sq   F value  Pr(>F)    \n",
       "Motip          1  352.6   352.6 13304.162 < 2e-16 ***\n",
       "Sdotip         1    0.0     0.0     1.676 0.19555    \n",
       "Ekotip         1  133.1   133.1  5020.911 < 2e-16 ***\n",
       "Sotip          1   21.6    21.6   814.438 < 2e-16 ***\n",
       "MotDc          1    4.6     4.6   174.170 < 2e-16 ***\n",
       "SdotDc         1   14.3    14.3   539.673 < 2e-16 ***\n",
       "EkotDc         1    0.1     0.1     2.742 0.09778 .  \n",
       "SotDc          1    0.2     0.2     7.311 0.00687 ** \n",
       "Residuals   9264  245.5     0.0                      \n",
       "---\n",
       "Signif. codes:  0 ‘***’ 0.001 ‘**’ 0.01 ‘*’ 0.05 ‘.’ 0.1 ‘ ’ 1"
      ]
     },
     "metadata": {},
     "output_type": "display_data"
    }
   ],
   "source": [
    "# aov(t ~ Motip, data=pulsar_training)\n",
    "summary(aov(t ~ Motip, data=pulsar_training))\n",
    "# residuals(aov(t ~ Motip, data=pulsar_training))\n",
    "aov.models = pulsar_training %>%\n",
    "  map(~ summary(aov(pulsar_training$t ~ .x))[[1]][[\"F value\"]][1])\n",
    "\n",
    "as_tibble(aov.models) %>%\n",
    "pivot_longer(cols=Motip:t, names_to=\"predictor\") %>%\n",
    "filter(predictor != 't') %>%\n",
    "arrange(desc(value)) %>%\n",
    "head(4)\n",
    "\n",
    "summary(aov(t ~ Motip + Ekotip + Sotip + SdotDc, data=pulsar_training))\n",
    "summary(aov(t ~ Motip + Ekotip + Sotip + MotDc + SdotDc + SotDc, data=pulsar_training))\n",
    "summary(aov(t ~ ., data=pulsar_training))"
   ]
  },
  {
   "cell_type": "code",
   "execution_count": null,
   "metadata": {},
   "outputs": [],
   "source": []
  }
 ],
 "metadata": {
  "kernelspec": {
   "display_name": "R",
   "language": "R",
   "name": "ir"
  },
  "language_info": {
   "codemirror_mode": "r",
   "file_extension": ".r",
   "mimetype": "text/x-r-source",
   "name": "R",
   "pygments_lexer": "r",
   "version": "4.0.0"
  }
 },
 "nbformat": 4,
 "nbformat_minor": 4
}
