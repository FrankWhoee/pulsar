{
 "cells": [
  {
   "cell_type": "markdown",
   "metadata": {},
   "source": [
    "# PulsarPrediction\n",
    "\n",
    "## Introduction"
   ]
  },
  {
   "cell_type": "markdown",
   "metadata": {},
   "source": [
    "## Preliminary exploratory data analysis\n",
    "\n",
    "### Importing libraries"
   ]
  },
  {
   "cell_type": "code",
   "execution_count": 31,
   "metadata": {},
   "outputs": [],
   "source": [
    "suppressMessages(library(tidyverse))\n",
    "suppressMessages(library(repr))\n",
    "suppressMessages(library(tidymodels))\n",
    "options(repr.matrix.max.rows = 6)"
   ]
  },
  {
   "cell_type": "markdown",
   "metadata": {},
   "source": [
    "### Reading data\n",
    "Data was downloaded from kaggle.com as CSV files. \n",
    "Kaggle provided training and testing data. It should be noted that Kaggle testing\n",
    "data is unlabelled, so model evaluation must be done with some proportion of training\n",
    "data."
   ]
  },
  {
   "cell_type": "code",
   "execution_count": 44,
   "metadata": {},
   "outputs": [
    {
     "name": "stdout",
     "output_type": "stream",
     "text": [
      "[1] \"pulsar_training has 12528 observations,\"\n",
      "[1] \"9 variables, and\"\n",
      "[1] \"3255 NA observations.\"\n",
      "[1] \"Column names before shortening are: \"\n",
      "[1] \"Mean of the integrated profile\"\n",
      "[1] \"Standard deviation of the integrated profile\"\n",
      "[1] \"Excess kurtosis of the integrated profile\"\n",
      "[1] \"Skewness of the integrated profile\"\n",
      "[1] \"Mean of the DM-SNR curve\"\n",
      "[1] \"Standard deviation of the DM-SNR curve\"\n",
      "[1] \"Excess kurtosis of the DM-SNR curve\"\n",
      "[1] \"Skewness of the DM-SNR curve\"\n",
      "[1] \"target_class\"\n"
     ]
    }
   ],
   "source": [
    "pulsar_training = read_csv(\"pulsar_data_train.csv\",col_types = cols())\n",
    "\n",
    "print(paste(\"pulsar_training has\", nrow(pulsar_training), \"observations,\"))\n",
    "print(paste(ncol(pulsar_training), \"variables, and\"))\n",
    "print(paste(sum(rowSums(is.na(pulsar_training)) > 0), \"NA observations.\"))\n",
    "print(\"Column names before shortening are: \")\n",
    "for(n in names(pulsar_training)){\n",
    "    print(n)\n",
    "}"
   ]
  },
  {
   "cell_type": "markdown",
   "metadata": {},
   "source": [
    "### Shortening column names"
   ]
  },
  {
   "cell_type": "code",
   "execution_count": 45,
   "metadata": {},
   "outputs": [
    {
     "name": "stdout",
     "output_type": "stream",
     "text": [
      "[1] \"Column names after shortening are: \"\n",
      "[1] \"Motip\"\n",
      "[1] \"Sdotip\"\n",
      "[1] \"Ekotip\"\n",
      "[1] \"Sotip\"\n",
      "[1] \"MotDc\"\n",
      "[1] \"SdotDc\"\n",
      "[1] \"EkotDc\"\n",
      "[1] \"SotDc\"\n",
      "[1] \"t\"\n"
     ]
    }
   ],
   "source": [
    "pulsar_names = c()\n",
    "for(n in names(pulsar_training)){\n",
    "    acroynm = ''\n",
    "    for(word in str_split(n, ' ')){\n",
    "        acroynm = paste(acroynm,substr(word,1,1), sep = '', collapse='')\n",
    "    }\n",
    "    pulsar_names = c(pulsar_names,acroynm)\n",
    "}\n",
    "names(pulsar_training)<-pulsar_names\n",
    "print(\"Column names after shortening are: \")\n",
    "for(n in names(pulsar_training)){\n",
    "    print(n)\n",
    "}"
   ]
  },
  {
   "cell_type": "markdown",
   "metadata": {},
   "source": [
    "### Removing NA entries"
   ]
  },
  {
   "cell_type": "code",
   "execution_count": 48,
   "metadata": {},
   "outputs": [
    {
     "name": "stdout",
     "output_type": "stream",
     "text": [
      "[1] \"pulsar_training has 9273 observations,\"\n",
      "[1] \"9 variables, and\"\n",
      "[1] \"0 NA observations.\"\n"
     ]
    }
   ],
   "source": [
    "pulsar_training = na.omit(pulsar_training)\n",
    "print(paste(\"pulsar_training has\", nrow(pulsar_training), \"observations,\"))\n",
    "print(paste(ncol(pulsar_training), \"variables, and\"))\n",
    "print(paste(sum(rowSums(is.na(pulsar_training)) > 0), \"NA observations.\"))"
   ]
  },
  {
   "cell_type": "markdown",
   "metadata": {},
   "source": [
    "### Data summary and visualization\n",
    "\n",
    "The goal of this summary will both be to get a general feel for the data, but more importantly to serve as guidance for feature selection, so we will be\n",
    "splitting the data into positive and negative cases for a more accurate depiction of the data, since there are approximately 10 times more negative cases, which will heavily influence the overall summary and visualization.\n"
   ]
  },
  {
   "cell_type": "code",
   "execution_count": 12,
   "metadata": {},
   "outputs": [],
   "source": [
    "# Data split\n",
    "pulsar_pos = pulsar_training %>%\n",
    "filter(t == 1)\n",
    "\n",
    "pulsar_neg = pulsar_training %>%\n",
    "filter(t == 0)"
   ]
  },
  {
   "cell_type": "code",
   "execution_count": 46,
   "metadata": {},
   "outputs": [],
   "source": [
    "# Create plots\n",
    "pulsar_plot = gather(pulsar_training) %>%\n",
    "filter(key != 't') %>%\n",
    "ggplot(aes(value)) +\n",
    "geom_histogram(bins=15, fill='darkblue')+\n",
    "facet_wrap(~key, scales = 'free_x')\n",
    "\n",
    "pulsar_pos_plot = gather(pulsar_pos) %>%\n",
    "filter(key != 't') %>%\n",
    "ggplot(aes(value)) +\n",
    "geom_histogram(bins=15, fill='coral')+\n",
    "facet_wrap(~key, scales = 'free_x')\n",
    "\n",
    "pulsar_neg_plot = gather(pulsar_neg) %>%\n",
    "filter(key != 't') %>%\n",
    "ggplot(aes(value)) +\n",
    "geom_histogram(bins=15, fill='dodgerblue')+\n",
    "facet_wrap(~key, scales = 'free_x')"
   ]
  },
  {
   "cell_type": "markdown",
   "metadata": {},
   "source": [
    "#### Overall plot\n",
    "\n",
    "We can see that EkotDc, Motip, and Sdotip have roughly normal distributions, but the rest are all skewed to the right."
   ]
  },
  {
   "cell_type": "code",
   "execution_count": 49,
   "metadata": {},
   "outputs": [
    {
     "name": "stderr",
     "output_type": "stream",
     "text": [
      "Warning message:\n",
      "“Removed 3538 rows containing non-finite values (stat_bin).”\n"
     ]
    },
    {
     "data": {
      "image/png": "[encoded data removed]",
      "text/plain": [
       "plot without title"
      ]
     },
     "metadata": {
      "image/png": {
       "height": 420,
       "width": 420
      }
     },
     "output_type": "display_data"
    }
   ],
   "source": [
    "pulsar_plot"
   ]
  },
  {
   "cell_type": "markdown",
   "metadata": {},
   "source": []
  },
  {
   "cell_type": "code",
   "execution_count": 11,
   "metadata": {},
   "outputs": [
    {
     "data": {
      "text/plain": [
       "              Df Sum Sq Mean Sq F value Pr(>F)    \n",
       "Motip          1  352.6   352.6    7794 <2e-16 ***\n",
       "Residuals   9271  419.4     0.0                   \n",
       "---\n",
       "Signif. codes:  0 ‘***’ 0.001 ‘**’ 0.01 ‘*’ 0.05 ‘.’ 0.1 ‘ ’ 1"
      ]
     },
     "metadata": {},
     "output_type": "display_data"
    },
    {
     "data": {
      "text/html": [
       "<table>\n",
       "<caption>A tibble: 4 × 2</caption>\n",
       "<thead>\n",
       "\t<tr><th scope=col>predictor</th><th scope=col>value</th></tr>\n",
       "\t<tr><th scope=col>&lt;chr&gt;</th><th scope=col>&lt;dbl&gt;</th></tr>\n",
       "</thead>\n",
       "<tbody>\n",
       "\t<tr><td>Ekotip</td><td>15482.646</td></tr>\n",
       "\t<tr><td>Sotip </td><td> 9148.079</td></tr>\n",
       "\t<tr><td>Motip </td><td> 7794.219</td></tr>\n",
       "\t<tr><td>SdotDc</td><td> 2979.422</td></tr>\n",
       "</tbody>\n",
       "</table>\n"
      ],
      "text/latex": [
       "A tibble: 4 × 2\n",
       "\\begin{tabular}{ll}\n",
       " predictor & value\\\\\n",
       " <chr> & <dbl>\\\\\n",
       "\\hline\n",
       "\t Ekotip & 15482.646\\\\\n",
       "\t Sotip  &  9148.079\\\\\n",
       "\t Motip  &  7794.219\\\\\n",
       "\t SdotDc &  2979.422\\\\\n",
       "\\end{tabular}\n"
      ],
      "text/markdown": [
       "\n",
       "A tibble: 4 × 2\n",
       "\n",
       "| predictor &lt;chr&gt; | value &lt;dbl&gt; |\n",
       "|---|---|\n",
       "| Ekotip | 15482.646 |\n",
       "| Sotip  |  9148.079 |\n",
       "| Motip  |  7794.219 |\n",
       "| SdotDc |  2979.422 |\n",
       "\n"
      ],
      "text/plain": [
       "  predictor value    \n",
       "1 Ekotip    15482.646\n",
       "2 Sotip      9148.079\n",
       "3 Motip      7794.219\n",
       "4 SdotDc     2979.422"
      ]
     },
     "metadata": {},
     "output_type": "display_data"
    },
    {
     "data": {
      "text/plain": [
       "              Df Sum Sq Mean Sq F value Pr(>F)    \n",
       "Motip          1  352.6   352.6 13154.0 <2e-16 ***\n",
       "Ekotip         1  130.9   130.9  4884.1 <2e-16 ***\n",
       "Sotip          1   23.7    23.7   885.2 <2e-16 ***\n",
       "SdotDc         1   16.3    16.3   609.1 <2e-16 ***\n",
       "Residuals   9268  248.5     0.0                   \n",
       "---\n",
       "Signif. codes:  0 ‘***’ 0.001 ‘**’ 0.01 ‘*’ 0.05 ‘.’ 0.1 ‘ ’ 1"
      ]
     },
     "metadata": {},
     "output_type": "display_data"
    },
    {
     "data": {
      "text/plain": [
       "              Df Sum Sq Mean Sq   F value Pr(>F)    \n",
       "Motip          1  352.6   352.6 13277.278 <2e-16 ***\n",
       "Ekotip         1  130.9   130.9  4929.838 <2e-16 ***\n",
       "Sotip          1   23.7    23.7   893.463 <2e-16 ***\n",
       "MotDc          1    4.1     4.1   153.622 <2e-16 ***\n",
       "SdotDc         1   14.5    14.5   544.457 <2e-16 ***\n",
       "SotDc          1    0.1     0.1     5.563 0.0184 *  \n",
       "Residuals   9266  246.1     0.0                     \n",
       "---\n",
       "Signif. codes:  0 ‘***’ 0.001 ‘**’ 0.01 ‘*’ 0.05 ‘.’ 0.1 ‘ ’ 1"
      ]
     },
     "metadata": {},
     "output_type": "display_data"
    },
    {
     "data": {
      "text/plain": [
       "              Df Sum Sq Mean Sq   F value  Pr(>F)    \n",
       "Motip          1  352.6   352.6 13304.162 < 2e-16 ***\n",
       "Sdotip         1    0.0     0.0     1.676 0.19555    \n",
       "Ekotip         1  133.1   133.1  5020.911 < 2e-16 ***\n",
       "Sotip          1   21.6    21.6   814.438 < 2e-16 ***\n",
       "MotDc          1    4.6     4.6   174.170 < 2e-16 ***\n",
       "SdotDc         1   14.3    14.3   539.673 < 2e-16 ***\n",
       "EkotDc         1    0.1     0.1     2.742 0.09778 .  \n",
       "SotDc          1    0.2     0.2     7.311 0.00687 ** \n",
       "Residuals   9264  245.5     0.0                      \n",
       "---\n",
       "Signif. codes:  0 ‘***’ 0.001 ‘**’ 0.01 ‘*’ 0.05 ‘.’ 0.1 ‘ ’ 1"
      ]
     },
     "metadata": {},
     "output_type": "display_data"
    }
   ],
   "source": [
    "# aov(t ~ Motip, data=pulsar_training)\n",
    "summary(aov(t ~ Motip, data=pulsar_training))\n",
    "# residuals(aov(t ~ Motip, data=pulsar_training))\n",
    "aov.models = pulsar_training %>%\n",
    "  map(~ summary(aov(pulsar_training$t ~ .x))[[1]][[\"F value\"]][1])\n",
    "\n",
    "as_tibble(aov.models) %>%\n",
    "pivot_longer(cols=Motip:t, names_to=\"predictor\") %>%\n",
    "filter(predictor != 't') %>%\n",
    "arrange(desc(value)) %>%\n",
    "head(4)\n",
    "\n",
    "summary(aov(t ~ Motip + Ekotip + Sotip + SdotDc, data=pulsar_training))\n",
    "summary(aov(t ~ Motip + Ekotip + Sotip + MotDc + SdotDc + SotDc, data=pulsar_training))\n",
    "summary(aov(t ~ ., data=pulsar_training))"
   ]
  },
  {
   "cell_type": "code",
   "execution_count": null,
   "metadata": {},
   "outputs": [],
   "source": []
  }
 ],
 "metadata": {
  "kernelspec": {
   "display_name": "R",
   "language": "R",
   "name": "ir"
  },
  "language_info": {
   "codemirror_mode": "r",
   "file_extension": ".r",
   "mimetype": "text/x-r-source",
   "name": "R",
   "pygments_lexer": "r",
   "version": "4.0.0"
  }
 },
 "nbformat": 4,
 "nbformat_minor": 4
}
