{
 "cells": [
  {
   "cell_type": "markdown",
   "metadata": {},
   "source": [
    "# Pulsar Prediction\n",
    "\n",
    "## Introduction"
   ]
  },
  {
   "cell_type": "markdown",
   "metadata": {},
   "source": [
    "### Background\n",
    "Pulsars are a rare type of Neutron star which look like a “flickering star”. It flickers because it will produce two steady, narrow beams as it spins. They can produce radio emission detectable on Earth.\n",
    "\n",
    "The extreme state matter of a pulsar can be used to find planets beyond our solar system, and measure the cosmic distance. Gravitational waves are outcomes from pulsars that could be evidence about energetic cosmic events like enormous black holes’ collision (Cofield, 2016).\n",
    "\n",
    "A common method of finding a pulsar is radio telescopes. However, recently machine learning tools are now being used to automatically label pulsar candidates to facilitate rapid analysis.\n",
    "\n",
    "### Question\n",
    "Using the K-nearest neighbors algorithm, to what accuracy can we predict whether an observed star is a pulsar?\n",
    "\n",
    "### Dataset\n",
    "We are working with a Kaggle dataset which describes attributes about stars, along with labels of being pulsar stars or not. Since the testing dataset is not labelled, we are unable to use it for testing.\n"
   ]
  },
  {
   "cell_type": "markdown",
   "metadata": {},
   "source": [
    "## Preliminary exploratory data analysis\n",
    "\n",
    "### Importing libraries"
   ]
  },
  {
   "cell_type": "code",
   "execution_count": 1,
   "metadata": {},
   "outputs": [
    {
     "name": "stderr",
     "output_type": "stream",
     "text": [
      "Warning message:\n",
      "“package ‘ggplot2’ was built under R version 4.0.1”\n",
      "Warning message:\n",
      "“package ‘tibble’ was built under R version 4.0.2”\n",
      "Warning message:\n",
      "“package ‘tidyr’ was built under R version 4.0.2”\n",
      "Warning message:\n",
      "“package ‘dplyr’ was built under R version 4.0.2”\n",
      "Warning message:\n",
      "“package ‘tidymodels’ was built under R version 4.0.2”\n",
      "Warning message:\n",
      "“package ‘broom’ was built under R version 4.0.2”\n",
      "Warning message:\n",
      "“package ‘dials’ was built under R version 4.0.2”\n",
      "Warning message:\n",
      "“package ‘infer’ was built under R version 4.0.3”\n",
      "Warning message:\n",
      "“package ‘modeldata’ was built under R version 4.0.1”\n",
      "Warning message:\n",
      "“package ‘parsnip’ was built under R version 4.0.2”\n",
      "Warning message:\n",
      "“package ‘recipes’ was built under R version 4.0.1”\n",
      "Warning message:\n",
      "“package ‘tune’ was built under R version 4.0.2”\n",
      "Warning message:\n",
      "“package ‘workflows’ was built under R version 4.0.2”\n",
      "Warning message:\n",
      "“package ‘yardstick’ was built under R version 4.0.2”\n"
     ]
    }
   ],
   "source": [
    "\n",
    "suppressMessages(library(tidyverse))\n",
    "suppressMessages(library(repr))\n",
    "suppressMessages(library(tidymodels))\n",
    "options(repr.matrix.max.rows = 6)"
   ]
  },
  {
   "cell_type": "markdown",
   "metadata": {},
   "source": [
    "### Reading data\n",
    "Data was downloaded as CSV files. \n",
    "Kaggle provided training and testing data. It should be noted that Kaggle testing\n",
    "data is unlabelled, so model evaluation must be done with some proportion of training\n",
    "data."
   ]
  },
  {
   "cell_type": "code",
   "execution_count": 2,
   "metadata": {},
   "outputs": [
    {
     "name": "stdout",
     "output_type": "stream",
     "text": [
      "[1] \"pulsar_training has 12528 observations,\"\n",
      "[1] \"9 variables, and\"\n",
      "[1] \"3255 NA observations.\"\n",
      "[1] \"Column names before shortening are: \"\n",
      "[1] \"Mean of the integrated profile\"\n",
      "[1] \"Standard deviation of the integrated profile\"\n",
      "[1] \"Excess kurtosis of the integrated profile\"\n",
      "[1] \"Skewness of the integrated profile\"\n",
      "[1] \"Mean of the DM-SNR curve\"\n",
      "[1] \"Standard deviation of the DM-SNR curve\"\n",
      "[1] \"Excess kurtosis of the DM-SNR curve\"\n",
      "[1] \"Skewness of the DM-SNR curve\"\n",
      "[1] \"target_class\"\n"
     ]
    }
   ],
   "source": [
    "pulsar_training = read_csv(\"https://raw.githubusercontent.com/FrankWhoee/pulsar/master/pulsar_data_train.csv\",col_types = cols())\n",
    "\n",
    "print(paste(\"pulsar_training has\", nrow(pulsar_training), \"observations,\"))\n",
    "print(paste(ncol(pulsar_training), \"variables, and\"))\n",
    "print(paste(sum(rowSums(is.na(pulsar_training)) > 0), \"NA observations.\"))\n",
    "print(\"Column names before shortening are: \")\n",
    "for(n in names(pulsar_training)){\n",
    "    print(n)\n",
    "}"
   ]
  },
  {
   "cell_type": "markdown",
   "metadata": {},
   "source": [
    "### Shortening column names"
   ]
  },
  {
   "cell_type": "code",
   "execution_count": 3,
   "metadata": {},
   "outputs": [
    {
     "name": "stdout",
     "output_type": "stream",
     "text": [
      "[1] \"Column names after shortening are: \"\n",
      "[1] \"Motip\"\n",
      "[1] \"Sdotip\"\n",
      "[1] \"Ekotip\"\n",
      "[1] \"Sotip\"\n",
      "[1] \"MotDc\"\n",
      "[1] \"SdotDc\"\n",
      "[1] \"EkotDc\"\n",
      "[1] \"SotDc\"\n",
      "[1] \"t\"\n"
     ]
    }
   ],
   "source": [
    "pulsar_names = c()\n",
    "for(n in names(pulsar_training)){\n",
    "    acroynm = ''\n",
    "    for(word in str_split(n, ' ')){\n",
    "        acroynm = paste(acroynm,substr(word,1,1), sep = '', collapse='')\n",
    "    }\n",
    "    pulsar_names = c(pulsar_names,acroynm)\n",
    "}\n",
    "names(pulsar_training)<-pulsar_names\n",
    "print(\"Column names after shortening are: \")\n",
    "for(n in names(pulsar_training)){\n",
    "    print(n)\n",
    "}"
   ]
  },
  {
   "cell_type": "markdown",
   "metadata": {},
   "source": [
    "### Removing NA entries"
   ]
  },
  {
   "cell_type": "code",
   "execution_count": 4,
   "metadata": {},
   "outputs": [
    {
     "name": "stdout",
     "output_type": "stream",
     "text": [
      "[1] \"pulsar_training has 9273 observations,\"\n",
      "[1] \"9 variables, and\"\n",
      "[1] \"0 NA observations.\"\n"
     ]
    },
    {
     "data": {
      "text/html": [
       "<table>\n",
       "<caption>A tibble: 9273 × 9</caption>\n",
       "<thead>\n",
       "\t<tr><th scope=col>Motip</th><th scope=col>Sdotip</th><th scope=col>Ekotip</th><th scope=col>Sotip</th><th scope=col>MotDc</th><th scope=col>SdotDc</th><th scope=col>EkotDc</th><th scope=col>SotDc</th><th scope=col>t</th></tr>\n",
       "\t<tr><th scope=col>&lt;dbl&gt;</th><th scope=col>&lt;dbl&gt;</th><th scope=col>&lt;dbl&gt;</th><th scope=col>&lt;dbl&gt;</th><th scope=col>&lt;dbl&gt;</th><th scope=col>&lt;dbl&gt;</th><th scope=col>&lt;dbl&gt;</th><th scope=col>&lt;dbl&gt;</th><th scope=col>&lt;dbl&gt;</th></tr>\n",
       "</thead>\n",
       "<tbody>\n",
       "\t<tr><td>121.15625</td><td>48.37297</td><td>0.3754847</td><td>-0.01316549</td><td>3.168896</td><td>18.39937</td><td>7.449874</td><td> 65.15930</td><td>0</td></tr>\n",
       "\t<tr><td> 76.96875</td><td>36.17556</td><td>0.7128979</td><td> 3.38871856</td><td>2.399666</td><td>17.57100</td><td>9.414652</td><td>102.72297</td><td>0</td></tr>\n",
       "\t<tr><td>130.58594</td><td>53.22953</td><td>0.1334083</td><td>-0.29724164</td><td>2.743311</td><td>22.36255</td><td>8.508364</td><td> 74.03132</td><td>0</td></tr>\n",
       "\t<tr><td>⋮</td><td>⋮</td><td>⋮</td><td>⋮</td><td>⋮</td><td>⋮</td><td>⋮</td><td>⋮</td><td>⋮</td></tr>\n",
       "\t<tr><td>116.0312</td><td>43.21385</td><td> 0.66345569</td><td> 0.4330880</td><td>0.7851171</td><td>11.62815</td><td>17.055215</td><td>312.20433</td><td>0</td></tr>\n",
       "\t<tr><td>135.6641</td><td>49.93375</td><td>-0.08994031</td><td>-0.2267262</td><td>3.8595318</td><td>21.50150</td><td> 7.398395</td><td> 62.33402</td><td>0</td></tr>\n",
       "\t<tr><td>120.7266</td><td>50.47226</td><td> 0.34617808</td><td> 0.1847972</td><td>0.7692308</td><td>11.79260</td><td>17.662222</td><td>329.54802</td><td>0</td></tr>\n",
       "</tbody>\n",
       "</table>\n"
      ],
      "text/latex": [
       "A tibble: 9273 × 9\n",
       "\\begin{tabular}{lllllllll}\n",
       " Motip & Sdotip & Ekotip & Sotip & MotDc & SdotDc & EkotDc & SotDc & t\\\\\n",
       " <dbl> & <dbl> & <dbl> & <dbl> & <dbl> & <dbl> & <dbl> & <dbl> & <dbl>\\\\\n",
       "\\hline\n",
       "\t 121.15625 & 48.37297 & 0.3754847 & -0.01316549 & 3.168896 & 18.39937 & 7.449874 &  65.15930 & 0\\\\\n",
       "\t  76.96875 & 36.17556 & 0.7128979 &  3.38871856 & 2.399666 & 17.57100 & 9.414652 & 102.72297 & 0\\\\\n",
       "\t 130.58594 & 53.22953 & 0.1334083 & -0.29724164 & 2.743311 & 22.36255 & 8.508364 &  74.03132 & 0\\\\\n",
       "\t ⋮ & ⋮ & ⋮ & ⋮ & ⋮ & ⋮ & ⋮ & ⋮ & ⋮\\\\\n",
       "\t 116.0312 & 43.21385 &  0.66345569 &  0.4330880 & 0.7851171 & 11.62815 & 17.055215 & 312.20433 & 0\\\\\n",
       "\t 135.6641 & 49.93375 & -0.08994031 & -0.2267262 & 3.8595318 & 21.50150 &  7.398395 &  62.33402 & 0\\\\\n",
       "\t 120.7266 & 50.47226 &  0.34617808 &  0.1847972 & 0.7692308 & 11.79260 & 17.662222 & 329.54802 & 0\\\\\n",
       "\\end{tabular}\n"
      ],
      "text/markdown": [
       "\n",
       "A tibble: 9273 × 9\n",
       "\n",
       "| Motip &lt;dbl&gt; | Sdotip &lt;dbl&gt; | Ekotip &lt;dbl&gt; | Sotip &lt;dbl&gt; | MotDc &lt;dbl&gt; | SdotDc &lt;dbl&gt; | EkotDc &lt;dbl&gt; | SotDc &lt;dbl&gt; | t &lt;dbl&gt; |\n",
       "|---|---|---|---|---|---|---|---|---|\n",
       "| 121.15625 | 48.37297 | 0.3754847 | -0.01316549 | 3.168896 | 18.39937 | 7.449874 |  65.15930 | 0 |\n",
       "|  76.96875 | 36.17556 | 0.7128979 |  3.38871856 | 2.399666 | 17.57100 | 9.414652 | 102.72297 | 0 |\n",
       "| 130.58594 | 53.22953 | 0.1334083 | -0.29724164 | 2.743311 | 22.36255 | 8.508364 |  74.03132 | 0 |\n",
       "| ⋮ | ⋮ | ⋮ | ⋮ | ⋮ | ⋮ | ⋮ | ⋮ | ⋮ |\n",
       "| 116.0312 | 43.21385 |  0.66345569 |  0.4330880 | 0.7851171 | 11.62815 | 17.055215 | 312.20433 | 0 |\n",
       "| 135.6641 | 49.93375 | -0.08994031 | -0.2267262 | 3.8595318 | 21.50150 |  7.398395 |  62.33402 | 0 |\n",
       "| 120.7266 | 50.47226 |  0.34617808 |  0.1847972 | 0.7692308 | 11.79260 | 17.662222 | 329.54802 | 0 |\n",
       "\n"
      ],
      "text/plain": [
       "     Motip     Sdotip   Ekotip      Sotip       MotDc     SdotDc   EkotDc   \n",
       "1    121.15625 48.37297 0.3754847   -0.01316549 3.168896  18.39937 7.449874 \n",
       "2     76.96875 36.17556 0.7128979    3.38871856 2.399666  17.57100 9.414652 \n",
       "3    130.58594 53.22953 0.1334083   -0.29724164 2.743311  22.36255 8.508364 \n",
       "⋮    ⋮         ⋮        ⋮           ⋮           ⋮         ⋮        ⋮        \n",
       "9271 116.0312  43.21385  0.66345569  0.4330880  0.7851171 11.62815 17.055215\n",
       "9272 135.6641  49.93375 -0.08994031 -0.2267262  3.8595318 21.50150  7.398395\n",
       "9273 120.7266  50.47226  0.34617808  0.1847972  0.7692308 11.79260 17.662222\n",
       "     SotDc     t\n",
       "1     65.15930 0\n",
       "2    102.72297 0\n",
       "3     74.03132 0\n",
       "⋮    ⋮         ⋮\n",
       "9271 312.20433 0\n",
       "9272  62.33402 0\n",
       "9273 329.54802 0"
      ]
     },
     "metadata": {},
     "output_type": "display_data"
    }
   ],
   "source": [
    "pulsar_training = na.omit(pulsar_training)\n",
    "print(paste(\"pulsar_training has\", nrow(pulsar_training), \"observations,\"))\n",
    "print(paste(ncol(pulsar_training), \"variables, and\"))\n",
    "print(paste(sum(rowSums(is.na(pulsar_training)) > 0), \"NA observations.\"))\n",
    "pulsar_training"
   ]
  },
  {
   "cell_type": "markdown",
   "metadata": {},
   "source": [
    "### Data summary and visualization\n",
    "\n",
    "We will split the data into positive and negative cases for a more accurate depiction, since there are approximately 10 times more negative cases.\n"
   ]
  },
  {
   "cell_type": "code",
   "execution_count": 5,
   "metadata": {},
   "outputs": [],
   "source": [
    "# Data split\n",
    "pulsar_pos = pulsar_training %>%\n",
    "filter(t == 1)\n",
    "\n",
    "pulsar_neg = pulsar_training %>%\n",
    "filter(t == 0)"
   ]
  },
  {
   "cell_type": "code",
   "execution_count": 6,
   "metadata": {},
   "outputs": [],
   "source": [
    "# Create plots\n",
    "pulsar_plot = gather(pulsar_training) %>%\n",
    "filter(key != 't') %>%\n",
    "ggplot(aes(value)) +\n",
    "geom_histogram(bins=15, fill='darkblue')+\n",
    "facet_wrap(~key, scales = 'free_x')\n",
    "\n",
    "pulsar_pos_plot = gather(pulsar_pos) %>%\n",
    "filter(key != 't') %>%\n",
    "ggplot(aes(value)) +\n",
    "geom_histogram(bins=15, fill='coral')+\n",
    "facet_wrap(~key, scales = 'free_x')\n",
    "\n",
    "pulsar_neg_plot = gather(pulsar_neg) %>%\n",
    "filter(key != 't') %>%\n",
    "ggplot(aes(value)) +\n",
    "geom_histogram(bins=15, fill='dodgerblue')+\n",
    "facet_wrap(~key, scales = 'free_x')"
   ]
  },
  {
   "cell_type": "markdown",
   "metadata": {},
   "source": [
    "#### Overall plot\n",
    "\n",
    "We can see that EkotDc, Motip, and Sdotip have roughly normal distributions, but the rest are all skewed to the right."
   ]
  },
  {
   "cell_type": "code",
   "execution_count": 7,
   "metadata": {},
   "outputs": [
    {
     "data": {
      "image/png": "[encoded data removed]",
      "text/plain": [
       "plot without title"
      ]
     },
     "metadata": {
      "image/png": {
       "height": 420,
       "width": 420
      }
     },
     "output_type": "display_data"
    }
   ],
   "source": [
    "pulsar_plot"
   ]
  },
  {
   "cell_type": "markdown",
   "metadata": {},
   "source": [
    "#### Negative plots\n",
    "\n",
    "Due to the proportion of negative data, the overall plot and negative-only plot visualizations look identical."
   ]
  },
  {
   "cell_type": "code",
   "execution_count": 8,
   "metadata": {},
   "outputs": [
    {
     "data": {
      "image/png": "[encoded data removed]",
      "text/plain": [
       "plot without title"
      ]
     },
     "metadata": {
      "image/png": {
       "height": 420,
       "width": 420
      }
     },
     "output_type": "display_data"
    }
   ],
   "source": [
    "pulsar_neg_plot"
   ]
  },
  {
   "cell_type": "markdown",
   "metadata": {},
   "source": [
    "#### Positive plots\n",
    "\n",
    "The positive plots are dramatically different, however. Most notable are Ekotip, Motip, and SdotDc on account of their different skews and variances."
   ]
  },
  {
   "cell_type": "code",
   "execution_count": 9,
   "metadata": {},
   "outputs": [
    {
     "data": {
      "image/png": "[encoded data removed]",
      "text/plain": [
       "plot without title"
      ]
     },
     "metadata": {
      "image/png": {
       "height": 420,
       "width": 420
      }
     },
     "output_type": "display_data"
    }
   ],
   "source": [
    "pulsar_pos_plot"
   ]
  },
  {
   "cell_type": "markdown",
   "metadata": {},
   "source": [
    "#### Comparison of statistical attributes"
   ]
  },
  {
   "cell_type": "code",
   "execution_count": 10,
   "metadata": {},
   "outputs": [
    {
     "data": {
      "text/html": [
       "<table>\n",
       "<caption>A data.frame: 4 × 5</caption>\n",
       "<thead>\n",
       "\t<tr><th></th><th scope=col>name</th><th scope=col>pos_mean</th><th scope=col>pos_stdev</th><th scope=col>neg_mean</th><th scope=col>neg_stdev</th></tr>\n",
       "\t<tr><th></th><th scope=col>&lt;chr&gt;</th><th scope=col>&lt;dbl&gt;</th><th scope=col>&lt;dbl&gt;</th><th scope=col>&lt;dbl&gt;</th><th scope=col>&lt;dbl&gt;</th></tr>\n",
       "</thead>\n",
       "<tbody>\n",
       "\t<tr><th scope=row>1</th><td>Motip </td><td>56.490790</td><td>29.840725</td><td>116.6479988</td><td>17.4600853</td></tr>\n",
       "\t<tr><th scope=row>2</th><td>Sdotip</td><td>38.653987</td><td> 7.974646</td><td> 47.3072449</td><td> 6.1116413</td></tr>\n",
       "\t<tr><th scope=row>3</th><td>Ekotip</td><td> 3.146134</td><td> 1.894812</td><td>  0.2104498</td><td> 0.3334176</td></tr>\n",
       "\t<tr><th scope=row>4</th><td>Sotip </td><td>15.736526</td><td>14.396040</td><td>  0.3833387</td><td> 1.0040248</td></tr>\n",
       "</tbody>\n",
       "</table>\n"
      ],
      "text/latex": [
       "A data.frame: 4 × 5\n",
       "\\begin{tabular}{r|lllll}\n",
       "  & name & pos\\_mean & pos\\_stdev & neg\\_mean & neg\\_stdev\\\\\n",
       "  & <chr> & <dbl> & <dbl> & <dbl> & <dbl>\\\\\n",
       "\\hline\n",
       "\t1 & Motip  & 56.490790 & 29.840725 & 116.6479988 & 17.4600853\\\\\n",
       "\t2 & Sdotip & 38.653987 &  7.974646 &  47.3072449 &  6.1116413\\\\\n",
       "\t3 & Ekotip &  3.146134 &  1.894812 &   0.2104498 &  0.3334176\\\\\n",
       "\t4 & Sotip  & 15.736526 & 14.396040 &   0.3833387 &  1.0040248\\\\\n",
       "\\end{tabular}\n"
      ],
      "text/markdown": [
       "\n",
       "A data.frame: 4 × 5\n",
       "\n",
       "| <!--/--> | name &lt;chr&gt; | pos_mean &lt;dbl&gt; | pos_stdev &lt;dbl&gt; | neg_mean &lt;dbl&gt; | neg_stdev &lt;dbl&gt; |\n",
       "|---|---|---|---|---|---|\n",
       "| 1 | Motip  | 56.490790 | 29.840725 | 116.6479988 | 17.4600853 |\n",
       "| 2 | Sdotip | 38.653987 |  7.974646 |  47.3072449 |  6.1116413 |\n",
       "| 3 | Ekotip |  3.146134 |  1.894812 |   0.2104498 |  0.3334176 |\n",
       "| 4 | Sotip  | 15.736526 | 14.396040 |   0.3833387 |  1.0040248 |\n",
       "\n"
      ],
      "text/plain": [
       "  name   pos_mean  pos_stdev neg_mean    neg_stdev \n",
       "1 Motip  56.490790 29.840725 116.6479988 17.4600853\n",
       "2 Sdotip 38.653987  7.974646  47.3072449  6.1116413\n",
       "3 Ekotip  3.146134  1.894812   0.2104498  0.3334176\n",
       "4 Sotip  15.736526 14.396040   0.3833387  1.0040248"
      ]
     },
     "metadata": {},
     "output_type": "display_data"
    },
    {
     "data": {
      "text/html": [
       "<table>\n",
       "<caption>A data.frame: 4 × 5</caption>\n",
       "<thead>\n",
       "\t<tr><th></th><th scope=col>name</th><th scope=col>pos_mean</th><th scope=col>pos_stdev</th><th scope=col>neg_mean</th><th scope=col>neg_stdev</th></tr>\n",
       "\t<tr><th></th><th scope=col>&lt;chr&gt;</th><th scope=col>&lt;dbl&gt;</th><th scope=col>&lt;dbl&gt;</th><th scope=col>&lt;dbl&gt;</th><th scope=col>&lt;dbl&gt;</th></tr>\n",
       "</thead>\n",
       "<tbody>\n",
       "\t<tr><th scope=row>5</th><td>MotDc </td><td>50.874638</td><td>45.938321</td><td>  8.886566</td><td> 24.51792</td></tr>\n",
       "\t<tr><th scope=row>6</th><td>SdotDc</td><td>56.664961</td><td>19.746352</td><td> 23.266417</td><td> 16.70009</td></tr>\n",
       "\t<tr><th scope=row>7</th><td>EkotDc</td><td> 2.737318</td><td> 3.085782</td><td>  8.892105</td><td>  4.28467</td></tr>\n",
       "\t<tr><th scope=row>8</th><td>SotDc </td><td>17.793435</td><td>46.167913</td><td>114.662773</td><td>108.65428</td></tr>\n",
       "</tbody>\n",
       "</table>\n"
      ],
      "text/latex": [
       "A data.frame: 4 × 5\n",
       "\\begin{tabular}{r|lllll}\n",
       "  & name & pos\\_mean & pos\\_stdev & neg\\_mean & neg\\_stdev\\\\\n",
       "  & <chr> & <dbl> & <dbl> & <dbl> & <dbl>\\\\\n",
       "\\hline\n",
       "\t5 & MotDc  & 50.874638 & 45.938321 &   8.886566 &  24.51792\\\\\n",
       "\t6 & SdotDc & 56.664961 & 19.746352 &  23.266417 &  16.70009\\\\\n",
       "\t7 & EkotDc &  2.737318 &  3.085782 &   8.892105 &   4.28467\\\\\n",
       "\t8 & SotDc  & 17.793435 & 46.167913 & 114.662773 & 108.65428\\\\\n",
       "\\end{tabular}\n"
      ],
      "text/markdown": [
       "\n",
       "A data.frame: 4 × 5\n",
       "\n",
       "| <!--/--> | name &lt;chr&gt; | pos_mean &lt;dbl&gt; | pos_stdev &lt;dbl&gt; | neg_mean &lt;dbl&gt; | neg_stdev &lt;dbl&gt; |\n",
       "|---|---|---|---|---|---|\n",
       "| 5 | MotDc  | 50.874638 | 45.938321 |   8.886566 |  24.51792 |\n",
       "| 6 | SdotDc | 56.664961 | 19.746352 |  23.266417 |  16.70009 |\n",
       "| 7 | EkotDc |  2.737318 |  3.085782 |   8.892105 |   4.28467 |\n",
       "| 8 | SotDc  | 17.793435 | 46.167913 | 114.662773 | 108.65428 |\n",
       "\n"
      ],
      "text/plain": [
       "  name   pos_mean  pos_stdev neg_mean   neg_stdev\n",
       "5 MotDc  50.874638 45.938321   8.886566  24.51792\n",
       "6 SdotDc 56.664961 19.746352  23.266417  16.70009\n",
       "7 EkotDc  2.737318  3.085782   8.892105   4.28467\n",
       "8 SotDc  17.793435 46.167913 114.662773 108.65428"
      ]
     },
     "metadata": {},
     "output_type": "display_data"
    }
   ],
   "source": [
    "# Part 1 - Getting means and stdev\n",
    "\n",
    "posmeans = pulsar_pos %>% \n",
    "map_df(mean) %>%\n",
    "select(-t) %>%\n",
    "pivot_longer(cols=Motip:SotDc)\n",
    "names(posmeans) <- c(\"name\", \"pos_mean\")\n",
    "\n",
    "posdev = pulsar_pos %>% \n",
    "map_df(sd) %>%\n",
    "select(-t) %>%\n",
    "pivot_longer(cols=Motip:SotDc) %>%\n",
    "select(-name)\n",
    "names(posdev) <- c(\"pos_stdev\")\n",
    "\n",
    "negmeans = pulsar_neg %>% \n",
    "map_df(mean) %>%\n",
    "select(-t) %>%\n",
    "pivot_longer(cols=Motip:SotDc)%>%\n",
    "select(-name)\n",
    "names(negmeans) <- c(\"neg_mean\")\n",
    "\n",
    "negdev = pulsar_neg %>% \n",
    "map_df(sd) %>%\n",
    "select(-t) %>%\n",
    "pivot_longer(cols=Motip:SotDc) %>%\n",
    "select(-name)\n",
    "names(negdev) <- c(\"neg_stdev\")\n",
    "\n",
    "summarized = cbind(posmeans,posdev, negmeans,negdev)\n",
    "summarized %>% head(4)\n",
    "summarized %>% tail(4)"
   ]
  },
  {
   "cell_type": "markdown",
   "metadata": {},
   "source": [
    "## Method\n",
    "\n",
    "### Feature Selection\n",
    "To choose which features will be selected, we are using ANOVA (Mumtaz, 2020)."
   ]
  },
  {
   "cell_type": "code",
   "execution_count": 11,
   "metadata": {},
   "outputs": [
    {
     "data": {
      "text/html": [
       "<table>\n",
       "<caption>A tibble: 4 × 2</caption>\n",
       "<thead>\n",
       "\t<tr><th scope=col>predictor</th><th scope=col>value</th></tr>\n",
       "\t<tr><th scope=col>&lt;chr&gt;</th><th scope=col>&lt;dbl&gt;</th></tr>\n",
       "</thead>\n",
       "<tbody>\n",
       "\t<tr><td>Ekotip</td><td>15482.646</td></tr>\n",
       "\t<tr><td>Sotip </td><td> 9148.079</td></tr>\n",
       "\t<tr><td>Motip </td><td> 7794.219</td></tr>\n",
       "\t<tr><td>SdotDc</td><td> 2979.422</td></tr>\n",
       "</tbody>\n",
       "</table>\n"
      ],
      "text/latex": [
       "A tibble: 4 × 2\n",
       "\\begin{tabular}{ll}\n",
       " predictor & value\\\\\n",
       " <chr> & <dbl>\\\\\n",
       "\\hline\n",
       "\t Ekotip & 15482.646\\\\\n",
       "\t Sotip  &  9148.079\\\\\n",
       "\t Motip  &  7794.219\\\\\n",
       "\t SdotDc &  2979.422\\\\\n",
       "\\end{tabular}\n"
      ],
      "text/markdown": [
       "\n",
       "A tibble: 4 × 2\n",
       "\n",
       "| predictor &lt;chr&gt; | value &lt;dbl&gt; |\n",
       "|---|---|\n",
       "| Ekotip | 15482.646 |\n",
       "| Sotip  |  9148.079 |\n",
       "| Motip  |  7794.219 |\n",
       "| SdotDc |  2979.422 |\n",
       "\n"
      ],
      "text/plain": [
       "  predictor value    \n",
       "1 Ekotip    15482.646\n",
       "2 Sotip      9148.079\n",
       "3 Motip      7794.219\n",
       "4 SdotDc     2979.422"
      ]
     },
     "metadata": {},
     "output_type": "display_data"
    },
    {
     "data": {
      "text/plain": [
       "              Df Sum Sq Mean Sq F value Pr(>F)    \n",
       "Motip          1  352.6   352.6 13154.0 <2e-16 ***\n",
       "Ekotip         1  130.9   130.9  4884.1 <2e-16 ***\n",
       "Sotip          1   23.7    23.7   885.2 <2e-16 ***\n",
       "SdotDc         1   16.3    16.3   609.1 <2e-16 ***\n",
       "Residuals   9268  248.5     0.0                   \n",
       "---\n",
       "Signif. codes:  0 ‘***’ 0.001 ‘**’ 0.01 ‘*’ 0.05 ‘.’ 0.1 ‘ ’ 1"
      ]
     },
     "metadata": {},
     "output_type": "display_data"
    }
   ],
   "source": [
    "set.seed(2021)\n",
    "aov.models = pulsar_training %>%\n",
    "  map(~ summary(aov(pulsar_training$t ~ .x))[[1]][[\"F value\"]][1])\n",
    "\n",
    "as_tibble(aov.models) %>%\n",
    "pivot_longer(cols=Motip:t, names_to=\"predictor\") %>%\n",
    "filter(predictor != 't') %>%\n",
    "arrange(desc(value)) %>%\n",
    "head(4)\n",
    "\n",
    "summary(aov(t ~ Motip + Ekotip + Sotip + SdotDc, data=pulsar_training))"
   ]
  },
  {
   "cell_type": "markdown",
   "metadata": {},
   "source": [
    "## Data Prep"
   ]
  },
  {
   "cell_type": "code",
   "execution_count": 12,
   "metadata": {},
   "outputs": [],
   "source": [
    "set.seed(2021)\n",
    "split_data <- initial_split(pulsar_training, prop=0.75, strata=t)\n",
    "\n",
    "training_data <- training(split_data)\n",
    "testing_data  <- testing(split_data)\n",
    "\n",
    "training_data$t <- as.factor(training_data$t)\n",
    "testing_data$t <- as.factor(testing_data$t)"
   ]
  },
  {
   "cell_type": "markdown",
   "metadata": {},
   "source": [
    "## Recipe Creation"
   ]
  },
  {
   "cell_type": "code",
   "execution_count": 13,
   "metadata": {},
   "outputs": [],
   "source": [
    "knn_spec <- nearest_neighbor(weight_func = \"rectangular\", neighbors = tune()) %>%\n",
    "       set_engine(\"kknn\") %>%\n",
    "       set_mode(\"classification\")\n",
    "\n",
    "rec <- recipe(t ~ Motip + Ekotip + Sotip + SdotDc, data = training_data)"
   ]
  },
  {
   "cell_type": "markdown",
   "metadata": {},
   "source": [
    "## Perform 5-fold cross-validation"
   ]
  },
  {
   "cell_type": "code",
   "execution_count": 14,
   "metadata": {},
   "outputs": [],
   "source": [
    "set.seed(2021)\n",
    "knn_spec <- nearest_neighbor(weight_func = \"rectangular\", neighbors = tune()) %>%\n",
    "       set_engine(\"kknn\") %>%\n",
    "       set_mode(\"classification\")\n",
    "crossv = vfold_cv(training_data, v = 5, strata = t)\n",
    "\n",
    "wf <- workflow() %>%\n",
    "       add_recipe(rec) %>%\n",
    "       add_model(knn_spec) %>%\n",
    "       tune_grid(resamples = crossv, grid = 10) \n",
    "wf_metrics = collect_metrics(wf)"
   ]
  },
  {
   "cell_type": "code",
   "execution_count": 15,
   "metadata": {},
   "outputs": [
    {
     "data": {
      "text/html": [
       "<table>\n",
       "<caption>A tibble: 18 × 7</caption>\n",
       "<thead>\n",
       "\t<tr><th scope=col>neighbors</th><th scope=col>.metric</th><th scope=col>.estimator</th><th scope=col>mean</th><th scope=col>n</th><th scope=col>std_err</th><th scope=col>.config</th></tr>\n",
       "\t<tr><th scope=col>&lt;int&gt;</th><th scope=col>&lt;chr&gt;</th><th scope=col>&lt;chr&gt;</th><th scope=col>&lt;dbl&gt;</th><th scope=col>&lt;int&gt;</th><th scope=col>&lt;dbl&gt;</th><th scope=col>&lt;chr&gt;</th></tr>\n",
       "</thead>\n",
       "<tbody>\n",
       "\t<tr><td>2</td><td>accuracy</td><td>binary</td><td>0.9653487</td><td>5</td><td>0.001645654</td><td>Model1</td></tr>\n",
       "\t<tr><td>2</td><td>roc_auc </td><td>binary</td><td>0.9202354</td><td>5</td><td>0.008401960</td><td>Model1</td></tr>\n",
       "\t<tr><td>3</td><td>accuracy</td><td>binary</td><td>0.9746945</td><td>5</td><td>0.002655095</td><td>Model2</td></tr>\n",
       "\t<tr><td>⋮</td><td>⋮</td><td>⋮</td><td>⋮</td><td>⋮</td><td>⋮</td><td>⋮</td></tr>\n",
       "\t<tr><td>13</td><td>roc_auc </td><td>binary</td><td>0.9536097</td><td>5</td><td>0.006264749</td><td>Model8</td></tr>\n",
       "\t<tr><td>14</td><td>accuracy</td><td>binary</td><td>0.9784328</td><td>5</td><td>0.001746220</td><td>Model9</td></tr>\n",
       "\t<tr><td>14</td><td>roc_auc </td><td>binary</td><td>0.9540666</td><td>5</td><td>0.006656410</td><td>Model9</td></tr>\n",
       "</tbody>\n",
       "</table>\n"
      ],
      "text/latex": [
       "A tibble: 18 × 7\n",
       "\\begin{tabular}{lllllll}\n",
       " neighbors & .metric & .estimator & mean & n & std\\_err & .config\\\\\n",
       " <int> & <chr> & <chr> & <dbl> & <int> & <dbl> & <chr>\\\\\n",
       "\\hline\n",
       "\t 2 & accuracy & binary & 0.9653487 & 5 & 0.001645654 & Model1\\\\\n",
       "\t 2 & roc\\_auc  & binary & 0.9202354 & 5 & 0.008401960 & Model1\\\\\n",
       "\t 3 & accuracy & binary & 0.9746945 & 5 & 0.002655095 & Model2\\\\\n",
       "\t ⋮ & ⋮ & ⋮ & ⋮ & ⋮ & ⋮ & ⋮\\\\\n",
       "\t 13 & roc\\_auc  & binary & 0.9536097 & 5 & 0.006264749 & Model8\\\\\n",
       "\t 14 & accuracy & binary & 0.9784328 & 5 & 0.001746220 & Model9\\\\\n",
       "\t 14 & roc\\_auc  & binary & 0.9540666 & 5 & 0.006656410 & Model9\\\\\n",
       "\\end{tabular}\n"
      ],
      "text/markdown": [
       "\n",
       "A tibble: 18 × 7\n",
       "\n",
       "| neighbors &lt;int&gt; | .metric &lt;chr&gt; | .estimator &lt;chr&gt; | mean &lt;dbl&gt; | n &lt;int&gt; | std_err &lt;dbl&gt; | .config &lt;chr&gt; |\n",
       "|---|---|---|---|---|---|---|\n",
       "| 2 | accuracy | binary | 0.9653487 | 5 | 0.001645654 | Model1 |\n",
       "| 2 | roc_auc  | binary | 0.9202354 | 5 | 0.008401960 | Model1 |\n",
       "| 3 | accuracy | binary | 0.9746945 | 5 | 0.002655095 | Model2 |\n",
       "| ⋮ | ⋮ | ⋮ | ⋮ | ⋮ | ⋮ | ⋮ |\n",
       "| 13 | roc_auc  | binary | 0.9536097 | 5 | 0.006264749 | Model8 |\n",
       "| 14 | accuracy | binary | 0.9784328 | 5 | 0.001746220 | Model9 |\n",
       "| 14 | roc_auc  | binary | 0.9540666 | 5 | 0.006656410 | Model9 |\n",
       "\n"
      ],
      "text/plain": [
       "   neighbors .metric  .estimator mean      n std_err     .config\n",
       "1  2         accuracy binary     0.9653487 5 0.001645654 Model1 \n",
       "2  2         roc_auc  binary     0.9202354 5 0.008401960 Model1 \n",
       "3  3         accuracy binary     0.9746945 5 0.002655095 Model2 \n",
       "⋮  ⋮         ⋮        ⋮          ⋮         ⋮ ⋮           ⋮      \n",
       "16 13        roc_auc  binary     0.9536097 5 0.006264749 Model8 \n",
       "17 14        accuracy binary     0.9784328 5 0.001746220 Model9 \n",
       "18 14        roc_auc  binary     0.9540666 5 0.006656410 Model9 "
      ]
     },
     "metadata": {},
     "output_type": "display_data"
    },
    {
     "data": {
      "text/html": [
       "0.9784327821711"
      ],
      "text/latex": [
       "0.9784327821711"
      ],
      "text/markdown": [
       "0.9784327821711"
      ],
      "text/plain": [
       "[1] 0.9784328"
      ]
     },
     "metadata": {},
     "output_type": "display_data"
    },
    {
     "data": {
      "text/html": [
       "14"
      ],
      "text/latex": [
       "14"
      ],
      "text/markdown": [
       "14"
      ],
      "text/plain": [
       "[1] 14"
      ]
     },
     "metadata": {},
     "output_type": "display_data"
    },
    {
     "data": {
      "image/png": "[encoded data removed]",
      "text/plain": [
       "plot without title"
      ]
     },
     "metadata": {
      "image/png": {
       "height": 300,
       "width": 360
      }
     },
     "output_type": "display_data"
    }
   ],
   "source": [
    "options(repr.plot.height = 5, repr.plot.width = 6)\n",
    "\n",
    "wf_metrics\n",
    "cross_val_plot <- wf_metrics %>% \n",
    "filter(.metric == \"accuracy\") %>%\n",
    "ggplot(aes(x=neighbors,y=mean)) +\n",
    "geom_point()+\n",
    "geom_line()+\n",
    "ylab(\"Accuracy\")\n",
    "\n",
    "\n",
    "cross_val_plot\n",
    "wfm2 = wf_metrics %>% \n",
    "filter(.metric == \"accuracy\")\n",
    "max(wfm2$mean)\n",
    "\n",
    "chosen_k = wf_metrics %>% \n",
    "filter(.metric == \"accuracy\") %>%\n",
    "arrange(mean) %>%\n",
    "tail(1) %>%\n",
    "select(neighbors) %>%\n",
    "pull()\n",
    "\n",
    "chosen_k"
   ]
  },
  {
   "cell_type": "markdown",
   "metadata": {},
   "source": [
    "## Build Model"
   ]
  },
  {
   "cell_type": "code",
   "execution_count": 16,
   "metadata": {},
   "outputs": [],
   "source": [
    "# your code here\n",
    "final_spec = nearest_neighbor(weight_func = \"rectangular\", neighbors = chosen_k) %>%\n",
    "       set_engine(\"kknn\") %>%\n",
    "       set_mode(\"classification\")\n",
    "\n",
    "final_fit = workflow() %>%\n",
    "       add_recipe(rec) %>%\n",
    "       add_model(final_spec) %>%\n",
    "        fit(data = training_data)"
   ]
  },
  {
   "cell_type": "code",
   "execution_count": 19,
   "metadata": {},
   "outputs": [
    {
     "data": {
      "text/html": [
       "<table>\n",
       "<caption>A tibble: 2 × 3</caption>\n",
       "<thead>\n",
       "\t<tr><th scope=col>.metric</th><th scope=col>.estimator</th><th scope=col>.estimate</th></tr>\n",
       "\t<tr><th scope=col>&lt;chr&gt;</th><th scope=col>&lt;chr&gt;</th><th scope=col>&lt;dbl&gt;</th></tr>\n",
       "</thead>\n",
       "<tbody>\n",
       "\t<tr><td>accuracy</td><td>binary</td><td>0.9788611</td></tr>\n",
       "\t<tr><td>kap     </td><td>binary</td><td>0.8720113</td></tr>\n",
       "</tbody>\n",
       "</table>\n"
      ],
      "text/latex": [
       "A tibble: 2 × 3\n",
       "\\begin{tabular}{lll}\n",
       " .metric & .estimator & .estimate\\\\\n",
       " <chr> & <chr> & <dbl>\\\\\n",
       "\\hline\n",
       "\t accuracy & binary & 0.9788611\\\\\n",
       "\t kap      & binary & 0.8720113\\\\\n",
       "\\end{tabular}\n"
      ],
      "text/markdown": [
       "\n",
       "A tibble: 2 × 3\n",
       "\n",
       "| .metric &lt;chr&gt; | .estimator &lt;chr&gt; | .estimate &lt;dbl&gt; |\n",
       "|---|---|---|\n",
       "| accuracy | binary | 0.9788611 |\n",
       "| kap      | binary | 0.8720113 |\n",
       "\n"
      ],
      "text/plain": [
       "  .metric  .estimator .estimate\n",
       "1 accuracy binary     0.9788611\n",
       "2 kap      binary     0.8720113"
      ]
     },
     "metadata": {},
     "output_type": "display_data"
    },
    {
     "data": {
      "text/plain": [
       "          Truth\n",
       "Prediction    0    1\n",
       "         0 2083   15\n",
       "         1   34  186"
      ]
     },
     "metadata": {},
     "output_type": "display_data"
    }
   ],
   "source": [
    "set.seed(2021)\n",
    "\n",
    "predictions = predict(final_fit, testing_data) %>%\n",
    "bind_cols(testing_data)\n",
    "\n",
    "final_metrics = metrics(predictions, .pred_class, t)\n",
    "final_metrics\n",
    "final_conf_mat = conf_mat(predictions, .pred_class,t)\n",
    "final_conf_mat"
   ]
  },
  {
   "cell_type": "markdown",
   "metadata": {},
   "source": [
    "### Data Analysis\n",
    "\n",
    "First, we will create a recipe to preprocess our data.\n",
    "\n",
    "As our dataset is very imbalanced, we want to rebalance the data in a way that can eliminate a falsely high accuracy rate for our model. We will do this by oversampling the positive cases.\n",
    "\n",
    "We will use the K-nearest neighbors algorithm to classify our observations, and execute 5-fold cross-validation to find the optimal value of K to use.\n",
    "\n",
    "Finally, we will fit the model and collect metrics on model performance, noting the accuracy we were able to obtain for our model.\n",
    "\n",
    "One of the ways in which we plan on visualizing our findings is with a scatterplot, where each data point depicts one star. Whether each star is a pulsar star or not will be denoted by colour.\n"
   ]
  },
  {
   "cell_type": "markdown",
   "metadata": {},
   "source": [
    "## Outcomes\n",
    "\n",
    "We expect to discover which variables are most influential in the categorization of pulsar stars."
   ]
  },
  {
   "cell_type": "markdown",
   "metadata": {},
   "source": [
    "# Works Cited\n",
    "Cofield, Calla. (2016, April 21). What Are Pulsars?. SPACE.COM. \n",
    " https://www.space.com/32661-pulsars.html\n",
    "\n",
    "Mumtaz, Asad. (2020, Jul 16). How to Find the Best Predictors for ML Algorithms. TOWARDSDATASCIENCE.COM. \n",
    " https://towardsdatascience.com/how-to-find-the-best-predictors-for-ml-algorithms-4b28a71a8a80"
   ]
  }
 ],
 "metadata": {
  "kernelspec": {
   "display_name": "R",
   "language": "R",
   "name": "ir"
  },
  "language_info": {
   "codemirror_mode": "r",
   "file_extension": ".r",
   "mimetype": "text/x-r-source",
   "name": "R",
   "pygments_lexer": "r",
   "version": "4.0.0"
  }
 },
 "nbformat": 4,
 "nbformat_minor": 4
}
