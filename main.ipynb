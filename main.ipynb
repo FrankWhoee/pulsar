{
 "cells": [
  {
   "cell_type": "markdown",
   "metadata": {},
   "source": [
    "# Pulsar Prediction\n",
    "\n",
    "## Introduction"
   ]
  },
  {
   "cell_type": "markdown",
   "metadata": {},
   "source": [
    "### Background\n",
    "Pulsars are a rare type of Neutron star which look like a “flickering star”. It flickers because it will produce two steady, narrow beams as it spins. They can produce radio emission detectable on Earth.\n",
    "\n",
    "The extreme state matter of a pulsar can be used to find planets beyond our solar system, and measure the cosmic distance. Gravitational waves are outcomes from pulsars that could be evidence about energetic cosmic events like enormous black holes’ collision (Cofield, 2016).\n",
    "\n",
    "A common method of finding a pulsar is radio telescopes. However, recently machine learning tools are now being used to automatically label pulsar candidates to facilitate rapid analysis.\n",
    "\n",
    "### Question\n",
    "Using the K-nearest neighbors algorithm, to what accuracy can we predict whether an observed star is a pulsar?\n",
    "\n",
    "### Dataset\n",
    "We are working with a Kaggle dataset which describes attributes about stars, along with labels of being pulsar stars or not. Since the testing dataset is not labelled, we are unable to use it for testing.\n"
   ]
  },
  {
   "cell_type": "markdown",
   "metadata": {},
   "source": [
    "## Preliminary exploratory data analysis\n",
    "\n",
    "### Importing libraries"
   ]
  },
  {
   "cell_type": "code",
   "execution_count": null,
   "metadata": {},
   "outputs": [],
   "source": [
    "suppressMessages(library(tidyverse))\n",
    "suppressMessages(library(repr))\n",
    "suppressMessages(library(tidymodels))\n",
    "options(repr.matrix.max.rows = 6)"
   ]
  },
  {
   "cell_type": "markdown",
   "metadata": {},
   "source": [
    "### Reading data\n",
    "Data was downloaded as CSV files. \n",
    "Kaggle provided training and testing data. It should be noted that Kaggle testing\n",
    "data is unlabelled, so model evaluation must be done with some proportion of training\n",
    "data."
   ]
  },
  {
   "cell_type": "code",
   "execution_count": null,
   "metadata": {},
   "outputs": [],
   "source": [
    "pulsar_training = read_csv(\"https://raw.githubusercontent.com/FrankWhoee/pulsar/master/pulsar_data_train.csv\",col_types = cols())\n",
    "\n",
    "print(paste(\"pulsar_training has\", nrow(pulsar_training), \"observations,\"))\n",
    "print(paste(ncol(pulsar_training), \"variables, and\"))\n",
    "print(paste(sum(rowSums(is.na(pulsar_training)) > 0), \"NA observations.\"))\n",
    "print(\"Column names before shortening are: \")\n",
    "for(n in names(pulsar_training)){\n",
    "    print(n)\n",
    "}"
   ]
  },
  {
   "cell_type": "markdown",
   "metadata": {},
   "source": [
    "### Shortening column names"
   ]
  },
  {
   "cell_type": "code",
   "execution_count": null,
   "metadata": {},
   "outputs": [],
   "source": [
    "pulsar_names = c()\n",
    "for(n in names(pulsar_training)){\n",
    "    acroynm = ''\n",
    "    for(word in str_split(n, ' ')){\n",
    "        acroynm = paste(acroynm,substr(word,1,1), sep = '', collapse='')\n",
    "    }\n",
    "    pulsar_names = c(pulsar_names,acroynm)\n",
    "}\n",
    "names(pulsar_training)<-pulsar_names\n",
    "print(\"Column names after shortening are: \")\n",
    "for(n in names(pulsar_training)){\n",
    "    print(n)\n",
    "}"
   ]
  },
  {
   "cell_type": "markdown",
   "metadata": {},
   "source": [
    "### Removing NA entries"
   ]
  },
  {
   "cell_type": "code",
   "execution_count": null,
   "metadata": {},
   "outputs": [],
   "source": [
    "pulsar_training = na.omit(pulsar_training)\n",
    "print(paste(\"pulsar_training has\", nrow(pulsar_training), \"observations,\"))\n",
    "print(paste(ncol(pulsar_training), \"variables, and\"))\n",
    "print(paste(sum(rowSums(is.na(pulsar_training)) > 0), \"NA observations.\"))\n",
    "pulsar_training"
   ]
  },
  {
   "cell_type": "markdown",
   "metadata": {},
   "source": [
    "### Data summary and visualization"
   ]
  },
  {
   "cell_type": "code",
   "execution_count": null,
   "metadata": {},
   "outputs": [],
   "source": [
    "class_distribution <- pulsar_training %>%\n",
    "ggplot(aes(x = t)) +\n",
    "geom_bar()\n",
    "\n",
    "class_distribution"
   ]
  },
  {
   "cell_type": "markdown",
   "metadata": {},
   "source": [
    "We will split the data into positive and negative cases for a more accurate depiction, since there are approximately 10 times more negative cases."
   ]
  },
  {
   "cell_type": "code",
   "execution_count": null,
   "metadata": {},
   "outputs": [],
   "source": [
    "# Data split\n",
    "pulsar_pos = pulsar_training %>%\n",
    "filter(t == 1)\n",
    "\n",
    "pulsar_neg = pulsar_training %>%\n",
    "filter(t == 0)"
   ]
  },
  {
   "cell_type": "code",
   "execution_count": null,
   "metadata": {},
   "outputs": [],
   "source": [
    "# Create plots\n",
    "pulsar_plot = gather(pulsar_training) %>%\n",
    "filter(key != 't') %>%\n",
    "ggplot(aes(value)) +\n",
    "geom_histogram(bins=15, fill='darkblue')+\n",
    "facet_wrap(~key, scales = 'free_x')\n",
    "\n",
    "pulsar_pos_plot = gather(pulsar_pos) %>%\n",
    "filter(key != 't') %>%\n",
    "ggplot(aes(value)) +\n",
    "geom_histogram(bins=15, fill='coral')+\n",
    "facet_wrap(~key, scales = 'free_x')\n",
    "\n",
    "pulsar_neg_plot = gather(pulsar_neg) %>%\n",
    "filter(key != 't') %>%\n",
    "ggplot(aes(value)) +\n",
    "geom_histogram(bins=15, fill='dodgerblue')+\n",
    "facet_wrap(~key, scales = 'free_x')"
   ]
  },
  {
   "cell_type": "markdown",
   "metadata": {},
   "source": [
    "#### Overall plot\n",
    "\n",
    "We can see that EkotDc, Motip, and Sdotip have roughly normal distributions, but the rest are all skewed to the right."
   ]
  },
  {
   "cell_type": "code",
   "execution_count": null,
   "metadata": {},
   "outputs": [],
   "source": [
    "pulsar_plot"
   ]
  },
  {
   "cell_type": "markdown",
   "metadata": {},
   "source": [
    "#### Negative plots\n",
    "\n",
    "Due to the proportion of negative data, the overall plot and negative-only plot visualizations look identical."
   ]
  },
  {
   "cell_type": "code",
   "execution_count": null,
   "metadata": {},
   "outputs": [],
   "source": [
    "pulsar_neg_plot"
   ]
  },
  {
   "cell_type": "markdown",
   "metadata": {},
   "source": [
    "#### Positive plots\n",
    "\n",
    "The positive plots are dramatically different, however. Most notable are Ekotip, Motip, and SdotDc on account of their different skews and variances."
   ]
  },
  {
   "cell_type": "code",
   "execution_count": null,
   "metadata": {},
   "outputs": [],
   "source": [
    "pulsar_pos_plot"
   ]
  },
  {
   "cell_type": "markdown",
   "metadata": {},
   "source": [
    "#### Comparison of statistical attributes"
   ]
  },
  {
   "cell_type": "code",
   "execution_count": null,
   "metadata": {},
   "outputs": [],
   "source": [
    "# Part 1 - Getting means and stdev\n",
    "\n",
    "posmeans = pulsar_pos %>% \n",
    "map_df(mean) %>%\n",
    "select(-t) %>%\n",
    "pivot_longer(cols=Motip:SotDc)\n",
    "names(posmeans) <- c(\"name\", \"pos_mean\")\n",
    "\n",
    "posdev = pulsar_pos %>% \n",
    "map_df(sd) %>%\n",
    "select(-t) %>%\n",
    "pivot_longer(cols=Motip:SotDc) %>%\n",
    "select(-name)\n",
    "names(posdev) <- c(\"pos_stdev\")\n",
    "\n",
    "negmeans = pulsar_neg %>% \n",
    "map_df(mean) %>%\n",
    "select(-t) %>%\n",
    "pivot_longer(cols=Motip:SotDc)%>%\n",
    "select(-name)\n",
    "names(negmeans) <- c(\"neg_mean\")\n",
    "\n",
    "negdev = pulsar_neg %>% \n",
    "map_df(sd) %>%\n",
    "select(-t) %>%\n",
    "pivot_longer(cols=Motip:SotDc) %>%\n",
    "select(-name)\n",
    "names(negdev) <- c(\"neg_stdev\")\n",
    "\n",
    "summarized = cbind(posmeans,posdev, negmeans,negdev)\n",
    "summarized %>% head(4)\n",
    "summarized %>% tail(4)"
   ]
  },
  {
   "cell_type": "markdown",
   "metadata": {},
   "source": [
    "## Method"
   ]
  },
  {
   "cell_type": "markdown",
   "metadata": {},
   "source": [
    "#### Setting Seed"
   ]
  },
  {
   "cell_type": "code",
   "execution_count": null,
   "metadata": {},
   "outputs": [],
   "source": [
    "set.seed(2021)"
   ]
  },
  {
   "cell_type": "markdown",
   "metadata": {},
   "source": [
    "## Data Prep"
   ]
  },
  {
   "cell_type": "code",
   "execution_count": null,
   "metadata": {},
   "outputs": [],
   "source": [
    "pulsar_training <- mutate (pulsar_training, t = as.factor(t))\n",
    "\n",
    "split_data <- initial_split(pulsar_training, prop=0.75, strata=t)\n",
    "\n",
    "training_data <- training(split_data)\n",
    "testing_data  <- testing(split_data)\n"
   ]
  },
  {
   "cell_type": "markdown",
   "metadata": {},
   "source": [
    "## Temporary Recipe Creation"
   ]
  },
  {
   "cell_type": "code",
   "execution_count": null,
   "metadata": {},
   "outputs": [],
   "source": [
    "rec <- recipe(t ~ ., data = training_data) %>%\n",
    "step_upsample(t, over_ratio = 1, skip = FALSE) %>%\n",
    "step_scale(all_predictors()) %>%\n",
    "step_center(all_predictors()) %>%\n",
    "prep()\n",
    "\n",
    "cooked_training <- bake(rec, training_data)\n",
    "cooked_training"
   ]
  },
  {
   "cell_type": "markdown",
   "metadata": {},
   "source": [
    "### Feature Selection\n",
    "To choose which features will be selected, we are using ANOVA (Mumtaz, 2020)."
   ]
  },
  {
   "cell_type": "code",
   "execution_count": null,
   "metadata": {},
   "outputs": [],
   "source": [
    "cooked_training <- mutate(cooked_training, t = as.numeric(t))\n",
    "\n",
    "aov.models = cooked_training %>%\n",
    "  map(~ summary(aov(cooked_training$t ~ .x))[[1]][[\"F value\"]][1])\n",
    "\n",
    "as_tibble(aov.models) %>%\n",
    "pivot_longer(cols=Motip:t, names_to=\"predictor\") %>%\n",
    "filter(predictor != 't') %>%\n",
    "arrange(desc(value)) %>%\n",
    "head(5)\n",
    "\n",
    "summary(aov(t ~ Motip + Ekotip + SdotDc + EkotDc + Sotip, data = cooked_training))\n"
   ]
  },
  {
   "cell_type": "markdown",
   "metadata": {},
   "source": [
    "### New Recipe Creation"
   ]
  },
  {
   "cell_type": "code",
   "execution_count": null,
   "metadata": {},
   "outputs": [],
   "source": [
    "final_training <- select(training_data, Motip , Ekotip , SdotDc , EkotDc , Sotip, t)\n",
    "final_testing <- select(testing_data, Motip , Ekotip , SdotDc , EkotDc , Sotip, t)\n",
    "\n",
    "ups_rec <- recipe(t ~ . , data = final_training) %>%\n",
    "step_upsample(t, over_ratio = 0.5, skip = FALSE) %>%\n",
    "prep()\n",
    "\n",
    "final_training <- bake(ups_rec, final_training)\n",
    "final_testing <- bake(ups_rec, final_testing)\n",
    "\n",
    "final_rec <- recipe(t ~ . , data = final_training) %>%\n",
    "step_scale(all_predictors()) %>%\n",
    "step_center(all_predictors())\n",
    "\n",
    "final_rec"
   ]
  },
  {
   "cell_type": "markdown",
   "metadata": {},
   "source": [
    "## Perform 5-fold cross-validation"
   ]
  },
  {
   "cell_type": "code",
   "execution_count": null,
   "metadata": {},
   "outputs": [],
   "source": [
    "knn_spec <- nearest_neighbor(weight_func = \"rectangular\", neighbors = tune()) %>%\n",
    "       set_engine(\"kknn\") %>%\n",
    "       set_mode(\"classification\")\n",
    "\n",
    "crossv = vfold_cv(final_training, v = 5, strata = t)\n",
    "\n",
    "k_vals <- tibble(neighbors = seq(from = 1, to = 20 , by = 1))\n",
    "\n",
    "wf <- workflow() %>%\n",
    "       add_recipe(final_rec) %>%\n",
    "       add_model(knn_spec) %>%\n",
    "       tune_grid(resamples = crossv, grid = k_vals) \n",
    "wf_metrics <- collect_metrics(wf)"
   ]
  },
  {
   "cell_type": "code",
   "execution_count": null,
   "metadata": {},
   "outputs": [],
   "source": [
    "options(repr.plot.height = 5, repr.plot.width = 6)\n",
    "\n",
    "wf_metrics\n",
    "cross_val_plot <- wf_metrics %>% \n",
    "filter(.metric == \"accuracy\") %>%\n",
    "ggplot(aes(x=neighbors,y=mean)) +\n",
    "geom_point()+\n",
    "geom_line()+\n",
    "ylab(\"Accuracy\")\n",
    "\n",
    "\n",
    "cross_val_plot\n",
    "wfm2 = wf_metrics %>% \n",
    "filter(.metric == \"accuracy\")\n",
    "max(wfm2$mean)\n",
    "\n",
    "chosen_k = wf_metrics %>% \n",
    "filter(.metric == \"accuracy\") %>%\n",
    "arrange(mean) %>%\n",
    "tail(1) %>%\n",
    "select(neighbors) %>%\n",
    "pull()\n",
    "\n",
    "chosen_k"
   ]
  },
  {
   "cell_type": "markdown",
   "metadata": {},
   "source": [
    "## Build Model"
   ]
  },
  {
   "cell_type": "code",
   "execution_count": null,
   "metadata": {},
   "outputs": [],
   "source": [
    "# your code here\n",
    "final_spec = nearest_neighbor(weight_func = \"rectangular\", neighbors = chosen_k) %>%\n",
    "       set_engine(\"kknn\") %>%\n",
    "       set_mode(\"classification\")\n",
    "\n",
    "final_fit = workflow() %>%\n",
    "       add_recipe(final_rec) %>%\n",
    "       add_model(final_spec) %>%\n",
    "        fit(data = final_training)"
   ]
  },
  {
   "cell_type": "code",
   "execution_count": null,
   "metadata": {},
   "outputs": [],
   "source": [
    "predictions = predict(final_fit, final_testing) %>%\n",
    "bind_cols(final_testing)\n",
    "\n",
    "final_metrics = metrics(predictions, .pred_class, t)\n",
    "final_metrics\n",
    "final_conf_mat = conf_mat(predictions, .pred_class,t)\n",
    "final_conf_mat"
   ]
  },
  {
   "cell_type": "markdown",
   "metadata": {},
   "source": [
    "### Data Analysis\n",
    "\n",
    "First, we will create a recipe to preprocess our data.\n",
    "\n",
    "As our dataset is very imbalanced, we want to rebalance the data in a way that can eliminate a falsely high accuracy rate for our model. We will do this by oversampling the positive cases.\n",
    "\n",
    "We will use the K-nearest neighbors algorithm to classify our observations, and execute 5-fold cross-validation to find the optimal value of K to use.\n",
    "\n",
    "Finally, we will fit the model and collect metrics on model performance, noting the accuracy we were able to obtain for our model.\n",
    "\n",
    "One of the ways in which we plan on visualizing our findings is with a scatterplot, where each data point depicts one star. Whether each star is a pulsar star or not will be denoted by colour.\n"
   ]
  },
  {
   "cell_type": "markdown",
   "metadata": {},
   "source": [
    "## Outcomes\n",
    "\n",
    "We expect to discover which variables are most influential in the categorization of pulsar stars."
   ]
  },
  {
   "cell_type": "markdown",
   "metadata": {},
   "source": [
    "# Works Cited\n",
    "Cofield, Calla. (2016, April 21). What Are Pulsars?. SPACE.COM. \n",
    " https://www.space.com/32661-pulsars.html\n",
    "\n",
    "Mumtaz, Asad. (2020, Jul 16). How to Find the Best Predictors for ML Algorithms. TOWARDSDATASCIENCE.COM. \n",
    " https://towardsdatascience.com/how-to-find-the-best-predictors-for-ml-algorithms-4b28a71a8a80"
   ]
  },
  {
   "cell_type": "code",
   "execution_count": null,
   "metadata": {},
   "outputs": [],
   "source": []
  }
 ],
 "metadata": {
  "kernelspec": {
   "display_name": "R",
   "language": "R",
   "name": "ir"
  },
  "language_info": {
   "codemirror_mode": "r",
   "file_extension": ".r",
   "mimetype": "text/x-r-source",
   "name": "R",
   "pygments_lexer": "r",
   "version": "4.0.0"
  }
 },
 "nbformat": 4,
 "nbformat_minor": 4
}
